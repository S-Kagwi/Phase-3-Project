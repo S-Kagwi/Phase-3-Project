{
 "cells": [
  {
   "attachments": {},
   "cell_type": "markdown",
   "metadata": {},
   "source": []
  },
  {
   "attachments": {},
   "cell_type": "markdown",
   "metadata": {},
   "source": [
    ">> # SYRIATEL CUSTOMER CHURN ANALYSIS AND MODELING "
   ]
  },
  {
   "attachments": {},
   "cell_type": "markdown",
   "metadata": {},
   "source": [
    "Churn is when a subscriber cancels, stops or does not renew a subscription"
   ]
  },
  {
   "attachments": {},
   "cell_type": "markdown",
   "metadata": {},
   "source": [
    "# BUSINESS UNDERSTANDING"
   ]
  },
  {
   "attachments": {},
   "cell_type": "markdown",
   "metadata": {},
   "source": [
    "Telecommunication is fast growing industry that has so much competition and many options for clients to choose from.\n",
    "\n",
    "SyriaTel, a telecommunications company wants to reduce money spent in the event of loosing customers and acquistion of new customers. The task at hand is to use machine learning algorithms to be able to predict the likelihoold of a customer churning from syriaTel.\n",
    "\n",
    "We plan on using predictive modeling to be able to identify the possibility and which customer will probably churn and this will help Syriatel to make more informed decision in bid to reduce customer churn and improve profits."
   ]
  },
  {
   "attachments": {},
   "cell_type": "markdown",
   "metadata": {},
   "source": [
    "## MAIN OBJECTIVE \n",
    "\n",
    "- To be able to build a model that is able to predict whether a customer will churn\n",
    "\n",
    "> * Specific objectives\n",
    " - To predict whether a customer will churn or not\n",
    " - To identify which variables affect possibility of customer churn\n",
    " - To visualize the relationship and distribution of various variables\n",
    "\n"
   ]
  },
  {
   "attachments": {},
   "cell_type": "markdown",
   "metadata": {},
   "source": [
    "# DATA UNDERSTANDING"
   ]
  },
  {
   "cell_type": "code",
   "execution_count": 69,
   "metadata": {},
   "outputs": [],
   "source": [
    "import pandas as pd\n",
    "import numpy as np\n",
    "\n",
    "import matplotlib.pyplot as plt\n",
    "%matplotlib inline\n",
    "import seaborn as sns\n",
    "\n",
    "from sklearn.preprocessing import OneHotEncoder\n",
    "from sklearn.preprocessing import StandardScaler\n",
    "\n",
    "from sklearn.model_selection import train_test_split\n",
    "from sklearn.model_selection import cross_val_score\n",
    "\n",
    "from sklearn.metrics import ConfusionMatrixDisplay\n",
    "from sklearn.metrics import classification_report\n",
    "\n",
    "from sklearn.linear_model import LogisticRegression\n",
    "from sklearn.tree import DecisionTreeClassifier\n",
    "from sklearn.neighbors import KNeighborsClassifier\n",
    "from sklearn.ensemble import RandomForestClassifier\n",
    "\n"
   ]
  },
  {
   "attachments": {},
   "cell_type": "markdown",
   "metadata": {},
   "source": [
    "# checking the data"
   ]
  },
  {
   "cell_type": "code",
   "execution_count": 70,
   "metadata": {},
   "outputs": [
    {
     "data": {
      "text/html": [
       "<div>\n",
       "<style scoped>\n",
       "    .dataframe tbody tr th:only-of-type {\n",
       "        vertical-align: middle;\n",
       "    }\n",
       "\n",
       "    .dataframe tbody tr th {\n",
       "        vertical-align: top;\n",
       "    }\n",
       "\n",
       "    .dataframe thead th {\n",
       "        text-align: right;\n",
       "    }\n",
       "</style>\n",
       "<table border=\"1\" class=\"dataframe\">\n",
       "  <thead>\n",
       "    <tr style=\"text-align: right;\">\n",
       "      <th></th>\n",
       "      <th>state</th>\n",
       "      <th>account length</th>\n",
       "      <th>area code</th>\n",
       "      <th>phone number</th>\n",
       "      <th>international plan</th>\n",
       "      <th>voice mail plan</th>\n",
       "      <th>number vmail messages</th>\n",
       "      <th>total day minutes</th>\n",
       "      <th>total day calls</th>\n",
       "      <th>total day charge</th>\n",
       "      <th>...</th>\n",
       "      <th>total eve calls</th>\n",
       "      <th>total eve charge</th>\n",
       "      <th>total night minutes</th>\n",
       "      <th>total night calls</th>\n",
       "      <th>total night charge</th>\n",
       "      <th>total intl minutes</th>\n",
       "      <th>total intl calls</th>\n",
       "      <th>total intl charge</th>\n",
       "      <th>customer service calls</th>\n",
       "      <th>churn</th>\n",
       "    </tr>\n",
       "  </thead>\n",
       "  <tbody>\n",
       "    <tr>\n",
       "      <th>0</th>\n",
       "      <td>KS</td>\n",
       "      <td>128</td>\n",
       "      <td>415</td>\n",
       "      <td>382-4657</td>\n",
       "      <td>no</td>\n",
       "      <td>yes</td>\n",
       "      <td>25</td>\n",
       "      <td>265.1</td>\n",
       "      <td>110</td>\n",
       "      <td>45.07</td>\n",
       "      <td>...</td>\n",
       "      <td>99</td>\n",
       "      <td>16.78</td>\n",
       "      <td>244.7</td>\n",
       "      <td>91</td>\n",
       "      <td>11.01</td>\n",
       "      <td>10.0</td>\n",
       "      <td>3</td>\n",
       "      <td>2.70</td>\n",
       "      <td>1</td>\n",
       "      <td>False</td>\n",
       "    </tr>\n",
       "    <tr>\n",
       "      <th>1</th>\n",
       "      <td>OH</td>\n",
       "      <td>107</td>\n",
       "      <td>415</td>\n",
       "      <td>371-7191</td>\n",
       "      <td>no</td>\n",
       "      <td>yes</td>\n",
       "      <td>26</td>\n",
       "      <td>161.6</td>\n",
       "      <td>123</td>\n",
       "      <td>27.47</td>\n",
       "      <td>...</td>\n",
       "      <td>103</td>\n",
       "      <td>16.62</td>\n",
       "      <td>254.4</td>\n",
       "      <td>103</td>\n",
       "      <td>11.45</td>\n",
       "      <td>13.7</td>\n",
       "      <td>3</td>\n",
       "      <td>3.70</td>\n",
       "      <td>1</td>\n",
       "      <td>False</td>\n",
       "    </tr>\n",
       "    <tr>\n",
       "      <th>2</th>\n",
       "      <td>NJ</td>\n",
       "      <td>137</td>\n",
       "      <td>415</td>\n",
       "      <td>358-1921</td>\n",
       "      <td>no</td>\n",
       "      <td>no</td>\n",
       "      <td>0</td>\n",
       "      <td>243.4</td>\n",
       "      <td>114</td>\n",
       "      <td>41.38</td>\n",
       "      <td>...</td>\n",
       "      <td>110</td>\n",
       "      <td>10.30</td>\n",
       "      <td>162.6</td>\n",
       "      <td>104</td>\n",
       "      <td>7.32</td>\n",
       "      <td>12.2</td>\n",
       "      <td>5</td>\n",
       "      <td>3.29</td>\n",
       "      <td>0</td>\n",
       "      <td>False</td>\n",
       "    </tr>\n",
       "    <tr>\n",
       "      <th>3</th>\n",
       "      <td>OH</td>\n",
       "      <td>84</td>\n",
       "      <td>408</td>\n",
       "      <td>375-9999</td>\n",
       "      <td>yes</td>\n",
       "      <td>no</td>\n",
       "      <td>0</td>\n",
       "      <td>299.4</td>\n",
       "      <td>71</td>\n",
       "      <td>50.90</td>\n",
       "      <td>...</td>\n",
       "      <td>88</td>\n",
       "      <td>5.26</td>\n",
       "      <td>196.9</td>\n",
       "      <td>89</td>\n",
       "      <td>8.86</td>\n",
       "      <td>6.6</td>\n",
       "      <td>7</td>\n",
       "      <td>1.78</td>\n",
       "      <td>2</td>\n",
       "      <td>False</td>\n",
       "    </tr>\n",
       "    <tr>\n",
       "      <th>4</th>\n",
       "      <td>OK</td>\n",
       "      <td>75</td>\n",
       "      <td>415</td>\n",
       "      <td>330-6626</td>\n",
       "      <td>yes</td>\n",
       "      <td>no</td>\n",
       "      <td>0</td>\n",
       "      <td>166.7</td>\n",
       "      <td>113</td>\n",
       "      <td>28.34</td>\n",
       "      <td>...</td>\n",
       "      <td>122</td>\n",
       "      <td>12.61</td>\n",
       "      <td>186.9</td>\n",
       "      <td>121</td>\n",
       "      <td>8.41</td>\n",
       "      <td>10.1</td>\n",
       "      <td>3</td>\n",
       "      <td>2.73</td>\n",
       "      <td>3</td>\n",
       "      <td>False</td>\n",
       "    </tr>\n",
       "  </tbody>\n",
       "</table>\n",
       "<p>5 rows × 21 columns</p>\n",
       "</div>"
      ],
      "text/plain": [
       "  state  account length  area code phone number international plan  \\\n",
       "0    KS             128        415     382-4657                 no   \n",
       "1    OH             107        415     371-7191                 no   \n",
       "2    NJ             137        415     358-1921                 no   \n",
       "3    OH              84        408     375-9999                yes   \n",
       "4    OK              75        415     330-6626                yes   \n",
       "\n",
       "  voice mail plan  number vmail messages  total day minutes  total day calls  \\\n",
       "0             yes                     25              265.1              110   \n",
       "1             yes                     26              161.6              123   \n",
       "2              no                      0              243.4              114   \n",
       "3              no                      0              299.4               71   \n",
       "4              no                      0              166.7              113   \n",
       "\n",
       "   total day charge  ...  total eve calls  total eve charge  \\\n",
       "0             45.07  ...               99             16.78   \n",
       "1             27.47  ...              103             16.62   \n",
       "2             41.38  ...              110             10.30   \n",
       "3             50.90  ...               88              5.26   \n",
       "4             28.34  ...              122             12.61   \n",
       "\n",
       "   total night minutes  total night calls  total night charge  \\\n",
       "0                244.7                 91               11.01   \n",
       "1                254.4                103               11.45   \n",
       "2                162.6                104                7.32   \n",
       "3                196.9                 89                8.86   \n",
       "4                186.9                121                8.41   \n",
       "\n",
       "   total intl minutes  total intl calls  total intl charge  \\\n",
       "0                10.0                 3               2.70   \n",
       "1                13.7                 3               3.70   \n",
       "2                12.2                 5               3.29   \n",
       "3                 6.6                 7               1.78   \n",
       "4                10.1                 3               2.73   \n",
       "\n",
       "   customer service calls  churn  \n",
       "0                       1  False  \n",
       "1                       1  False  \n",
       "2                       0  False  \n",
       "3                       2  False  \n",
       "4                       3  False  \n",
       "\n",
       "[5 rows x 21 columns]"
      ]
     },
     "execution_count": 70,
     "metadata": {},
     "output_type": "execute_result"
    }
   ],
   "source": [
    "#importring data\n",
    "df = pd.read_csv(\"churnning.csv\")\n",
    "df.head()"
   ]
  },
  {
   "cell_type": "code",
   "execution_count": 71,
   "metadata": {},
   "outputs": [
    {
     "name": "stdout",
     "output_type": "stream",
     "text": [
      "This data set contains (3333, 21) rows and columns\n"
     ]
    }
   ],
   "source": [
    "#checking number of records in rows and columns\n",
    "print(f\"This data set contains {(df.shape)} rows and columns\")\n"
   ]
  },
  {
   "cell_type": "code",
   "execution_count": 72,
   "metadata": {},
   "outputs": [
    {
     "data": {
      "text/plain": [
       "state                      object\n",
       "account length              int64\n",
       "area code                   int64\n",
       "phone number               object\n",
       "international plan         object\n",
       "voice mail plan            object\n",
       "number vmail messages       int64\n",
       "total day minutes         float64\n",
       "total day calls             int64\n",
       "total day charge          float64\n",
       "total eve minutes         float64\n",
       "total eve calls             int64\n",
       "total eve charge          float64\n",
       "total night minutes       float64\n",
       "total night calls           int64\n",
       "total night charge        float64\n",
       "total intl minutes        float64\n",
       "total intl calls            int64\n",
       "total intl charge         float64\n",
       "customer service calls      int64\n",
       "churn                        bool\n",
       "dtype: object"
      ]
     },
     "execution_count": 72,
     "metadata": {},
     "output_type": "execute_result"
    }
   ],
   "source": [
    "#checking data types \n",
    "df.dtypes"
   ]
  },
  {
   "cell_type": "code",
   "execution_count": 73,
   "metadata": {},
   "outputs": [
    {
     "data": {
      "text/plain": [
       "float64    8\n",
       "int64      8\n",
       "object     4\n",
       "bool       1\n",
       "dtype: int64"
      ]
     },
     "execution_count": 73,
     "metadata": {},
     "output_type": "execute_result"
    }
   ],
   "source": [
    "#checking counts for each data type\n",
    "df.dtypes.value_counts()"
   ]
  },
  {
   "attachments": {},
   "cell_type": "markdown",
   "metadata": {},
   "source": [
    "From above we can see that the dataset has 21 different columns \n",
    "\n",
    "The data has four different data types."
   ]
  },
  {
   "attachments": {},
   "cell_type": "markdown",
   "metadata": {},
   "source": [
    "# Tidying and cleaning our data"
   ]
  },
  {
   "attachments": {},
   "cell_type": "markdown",
   "metadata": {},
   "source": [
    "### Data preparation\n"
   ]
  },
  {
   "cell_type": "code",
   "execution_count": 75,
   "metadata": {},
   "outputs": [
    {
     "data": {
      "text/plain": [
       "state                     0\n",
       "account length            0\n",
       "area code                 0\n",
       "phone number              0\n",
       "international plan        0\n",
       "voice mail plan           0\n",
       "number vmail messages     0\n",
       "total day minutes         0\n",
       "total day calls           0\n",
       "total day charge          0\n",
       "total eve minutes         0\n",
       "total eve calls           0\n",
       "total eve charge          0\n",
       "total night minutes       0\n",
       "total night calls         0\n",
       "total night charge        0\n",
       "total intl minutes        0\n",
       "total intl calls          0\n",
       "total intl charge         0\n",
       "customer service calls    0\n",
       "churn                     0\n",
       "dtype: int64"
      ]
     },
     "execution_count": 75,
     "metadata": {},
     "output_type": "execute_result"
    }
   ],
   "source": [
    "#checking for missing values\n",
    "missing_values = df.isnull().sum()\n",
    "missing_values"
   ]
  },
  {
   "cell_type": "code",
   "execution_count": 76,
   "metadata": {},
   "outputs": [
    {
     "data": {
      "text/plain": [
       "0"
      ]
     },
     "execution_count": 76,
     "metadata": {},
     "output_type": "execute_result"
    }
   ],
   "source": [
    "#checking for duplicates\n",
    "duplicated_values = df.duplicated().sum()\n",
    "duplicated_values"
   ]
  },
  {
   "attachments": {},
   "cell_type": "markdown",
   "metadata": {},
   "source": [
    "This data set does not have missing value and duplicated values so  it clean and ready for further analysis"
   ]
  },
  {
   "attachments": {},
   "cell_type": "markdown",
   "metadata": {},
   "source": [
    "# EDA"
   ]
  },
  {
   "attachments": {},
   "cell_type": "markdown",
   "metadata": {},
   "source": [
    "From above we realized that the data has 4 different data types and no missing or duplicate values so we can go and explore the data and check for distributions and patterns. "
   ]
  },
  {
   "cell_type": "code",
   "execution_count": 77,
   "metadata": {},
   "outputs": [
    {
     "name": "stdout",
     "output_type": "stream",
     "text": [
      "Index(['state', 'phone number', 'international plan', 'voice mail plan'], dtype='object')\n"
     ]
    },
    {
     "data": {
      "text/html": [
       "<div>\n",
       "<style scoped>\n",
       "    .dataframe tbody tr th:only-of-type {\n",
       "        vertical-align: middle;\n",
       "    }\n",
       "\n",
       "    .dataframe tbody tr th {\n",
       "        vertical-align: top;\n",
       "    }\n",
       "\n",
       "    .dataframe thead th {\n",
       "        text-align: right;\n",
       "    }\n",
       "</style>\n",
       "<table border=\"1\" class=\"dataframe\">\n",
       "  <thead>\n",
       "    <tr style=\"text-align: right;\">\n",
       "      <th></th>\n",
       "      <th>state</th>\n",
       "      <th>phone number</th>\n",
       "      <th>international plan</th>\n",
       "      <th>voice mail plan</th>\n",
       "    </tr>\n",
       "  </thead>\n",
       "  <tbody>\n",
       "    <tr>\n",
       "      <th>0</th>\n",
       "      <td>KS</td>\n",
       "      <td>382-4657</td>\n",
       "      <td>no</td>\n",
       "      <td>yes</td>\n",
       "    </tr>\n",
       "    <tr>\n",
       "      <th>1</th>\n",
       "      <td>OH</td>\n",
       "      <td>371-7191</td>\n",
       "      <td>no</td>\n",
       "      <td>yes</td>\n",
       "    </tr>\n",
       "    <tr>\n",
       "      <th>2</th>\n",
       "      <td>NJ</td>\n",
       "      <td>358-1921</td>\n",
       "      <td>no</td>\n",
       "      <td>no</td>\n",
       "    </tr>\n",
       "    <tr>\n",
       "      <th>3</th>\n",
       "      <td>OH</td>\n",
       "      <td>375-9999</td>\n",
       "      <td>yes</td>\n",
       "      <td>no</td>\n",
       "    </tr>\n",
       "    <tr>\n",
       "      <th>4</th>\n",
       "      <td>OK</td>\n",
       "      <td>330-6626</td>\n",
       "      <td>yes</td>\n",
       "      <td>no</td>\n",
       "    </tr>\n",
       "  </tbody>\n",
       "</table>\n",
       "</div>"
      ],
      "text/plain": [
       "  state phone number international plan voice mail plan\n",
       "0    KS     382-4657                 no             yes\n",
       "1    OH     371-7191                 no             yes\n",
       "2    NJ     358-1921                 no              no\n",
       "3    OH     375-9999                yes              no\n",
       "4    OK     330-6626                yes              no"
      ]
     },
     "execution_count": 77,
     "metadata": {},
     "output_type": "execute_result"
    }
   ],
   "source": [
    "# checking categoricals columns \n",
    "categorical_columns = df.select_dtypes(include=\"object\")\n",
    "print(categorical_columns.columns)\n",
    "categorical_columns.head()"
   ]
  },
  {
   "cell_type": "code",
   "execution_count": 78,
   "metadata": {},
   "outputs": [
    {
     "name": "stdout",
     "output_type": "stream",
     "text": [
      "Index(['account length', 'area code', 'number vmail messages',\n",
      "       'total day minutes', 'total day calls', 'total day charge',\n",
      "       'total eve minutes', 'total eve calls', 'total eve charge',\n",
      "       'total night minutes', 'total night calls', 'total night charge',\n",
      "       'total intl minutes', 'total intl calls', 'total intl charge',\n",
      "       'customer service calls'],\n",
      "      dtype='object')\n"
     ]
    },
    {
     "data": {
      "text/html": [
       "<div>\n",
       "<style scoped>\n",
       "    .dataframe tbody tr th:only-of-type {\n",
       "        vertical-align: middle;\n",
       "    }\n",
       "\n",
       "    .dataframe tbody tr th {\n",
       "        vertical-align: top;\n",
       "    }\n",
       "\n",
       "    .dataframe thead th {\n",
       "        text-align: right;\n",
       "    }\n",
       "</style>\n",
       "<table border=\"1\" class=\"dataframe\">\n",
       "  <thead>\n",
       "    <tr style=\"text-align: right;\">\n",
       "      <th></th>\n",
       "      <th>account length</th>\n",
       "      <th>area code</th>\n",
       "      <th>number vmail messages</th>\n",
       "      <th>total day minutes</th>\n",
       "      <th>total day calls</th>\n",
       "      <th>total day charge</th>\n",
       "      <th>total eve minutes</th>\n",
       "      <th>total eve calls</th>\n",
       "      <th>total eve charge</th>\n",
       "      <th>total night minutes</th>\n",
       "      <th>total night calls</th>\n",
       "      <th>total night charge</th>\n",
       "      <th>total intl minutes</th>\n",
       "      <th>total intl calls</th>\n",
       "      <th>total intl charge</th>\n",
       "      <th>customer service calls</th>\n",
       "    </tr>\n",
       "  </thead>\n",
       "  <tbody>\n",
       "    <tr>\n",
       "      <th>0</th>\n",
       "      <td>128</td>\n",
       "      <td>415</td>\n",
       "      <td>25</td>\n",
       "      <td>265.1</td>\n",
       "      <td>110</td>\n",
       "      <td>45.07</td>\n",
       "      <td>197.4</td>\n",
       "      <td>99</td>\n",
       "      <td>16.78</td>\n",
       "      <td>244.7</td>\n",
       "      <td>91</td>\n",
       "      <td>11.01</td>\n",
       "      <td>10.0</td>\n",
       "      <td>3</td>\n",
       "      <td>2.70</td>\n",
       "      <td>1</td>\n",
       "    </tr>\n",
       "    <tr>\n",
       "      <th>1</th>\n",
       "      <td>107</td>\n",
       "      <td>415</td>\n",
       "      <td>26</td>\n",
       "      <td>161.6</td>\n",
       "      <td>123</td>\n",
       "      <td>27.47</td>\n",
       "      <td>195.5</td>\n",
       "      <td>103</td>\n",
       "      <td>16.62</td>\n",
       "      <td>254.4</td>\n",
       "      <td>103</td>\n",
       "      <td>11.45</td>\n",
       "      <td>13.7</td>\n",
       "      <td>3</td>\n",
       "      <td>3.70</td>\n",
       "      <td>1</td>\n",
       "    </tr>\n",
       "    <tr>\n",
       "      <th>2</th>\n",
       "      <td>137</td>\n",
       "      <td>415</td>\n",
       "      <td>0</td>\n",
       "      <td>243.4</td>\n",
       "      <td>114</td>\n",
       "      <td>41.38</td>\n",
       "      <td>121.2</td>\n",
       "      <td>110</td>\n",
       "      <td>10.30</td>\n",
       "      <td>162.6</td>\n",
       "      <td>104</td>\n",
       "      <td>7.32</td>\n",
       "      <td>12.2</td>\n",
       "      <td>5</td>\n",
       "      <td>3.29</td>\n",
       "      <td>0</td>\n",
       "    </tr>\n",
       "    <tr>\n",
       "      <th>3</th>\n",
       "      <td>84</td>\n",
       "      <td>408</td>\n",
       "      <td>0</td>\n",
       "      <td>299.4</td>\n",
       "      <td>71</td>\n",
       "      <td>50.90</td>\n",
       "      <td>61.9</td>\n",
       "      <td>88</td>\n",
       "      <td>5.26</td>\n",
       "      <td>196.9</td>\n",
       "      <td>89</td>\n",
       "      <td>8.86</td>\n",
       "      <td>6.6</td>\n",
       "      <td>7</td>\n",
       "      <td>1.78</td>\n",
       "      <td>2</td>\n",
       "    </tr>\n",
       "    <tr>\n",
       "      <th>4</th>\n",
       "      <td>75</td>\n",
       "      <td>415</td>\n",
       "      <td>0</td>\n",
       "      <td>166.7</td>\n",
       "      <td>113</td>\n",
       "      <td>28.34</td>\n",
       "      <td>148.3</td>\n",
       "      <td>122</td>\n",
       "      <td>12.61</td>\n",
       "      <td>186.9</td>\n",
       "      <td>121</td>\n",
       "      <td>8.41</td>\n",
       "      <td>10.1</td>\n",
       "      <td>3</td>\n",
       "      <td>2.73</td>\n",
       "      <td>3</td>\n",
       "    </tr>\n",
       "  </tbody>\n",
       "</table>\n",
       "</div>"
      ],
      "text/plain": [
       "   account length  area code  number vmail messages  total day minutes  \\\n",
       "0             128        415                     25              265.1   \n",
       "1             107        415                     26              161.6   \n",
       "2             137        415                      0              243.4   \n",
       "3              84        408                      0              299.4   \n",
       "4              75        415                      0              166.7   \n",
       "\n",
       "   total day calls  total day charge  total eve minutes  total eve calls  \\\n",
       "0              110             45.07              197.4               99   \n",
       "1              123             27.47              195.5              103   \n",
       "2              114             41.38              121.2              110   \n",
       "3               71             50.90               61.9               88   \n",
       "4              113             28.34              148.3              122   \n",
       "\n",
       "   total eve charge  total night minutes  total night calls  \\\n",
       "0             16.78                244.7                 91   \n",
       "1             16.62                254.4                103   \n",
       "2             10.30                162.6                104   \n",
       "3              5.26                196.9                 89   \n",
       "4             12.61                186.9                121   \n",
       "\n",
       "   total night charge  total intl minutes  total intl calls  \\\n",
       "0               11.01                10.0                 3   \n",
       "1               11.45                13.7                 3   \n",
       "2                7.32                12.2                 5   \n",
       "3                8.86                 6.6                 7   \n",
       "4                8.41                10.1                 3   \n",
       "\n",
       "   total intl charge  customer service calls  \n",
       "0               2.70                       1  \n",
       "1               3.70                       1  \n",
       "2               3.29                       0  \n",
       "3               1.78                       2  \n",
       "4               2.73                       3  "
      ]
     },
     "execution_count": 78,
     "metadata": {},
     "output_type": "execute_result"
    }
   ],
   "source": [
    "# checking numerical columns\n",
    "numerical_columns = df.select_dtypes(include= \"number\")\n",
    "print(numerical_columns.columns)\n",
    "numerical_columns.head()\n"
   ]
  },
  {
   "cell_type": "code",
   "execution_count": 79,
   "metadata": {},
   "outputs": [
    {
     "name": "stdout",
     "output_type": "stream",
     "text": [
      "Index(['churn'], dtype='object')\n"
     ]
    },
    {
     "data": {
      "text/html": [
       "<div>\n",
       "<style scoped>\n",
       "    .dataframe tbody tr th:only-of-type {\n",
       "        vertical-align: middle;\n",
       "    }\n",
       "\n",
       "    .dataframe tbody tr th {\n",
       "        vertical-align: top;\n",
       "    }\n",
       "\n",
       "    .dataframe thead th {\n",
       "        text-align: right;\n",
       "    }\n",
       "</style>\n",
       "<table border=\"1\" class=\"dataframe\">\n",
       "  <thead>\n",
       "    <tr style=\"text-align: right;\">\n",
       "      <th></th>\n",
       "      <th>churn</th>\n",
       "    </tr>\n",
       "  </thead>\n",
       "  <tbody>\n",
       "    <tr>\n",
       "      <th>0</th>\n",
       "      <td>False</td>\n",
       "    </tr>\n",
       "    <tr>\n",
       "      <th>1</th>\n",
       "      <td>False</td>\n",
       "    </tr>\n",
       "    <tr>\n",
       "      <th>2</th>\n",
       "      <td>False</td>\n",
       "    </tr>\n",
       "    <tr>\n",
       "      <th>3</th>\n",
       "      <td>False</td>\n",
       "    </tr>\n",
       "    <tr>\n",
       "      <th>4</th>\n",
       "      <td>False</td>\n",
       "    </tr>\n",
       "  </tbody>\n",
       "</table>\n",
       "</div>"
      ],
      "text/plain": [
       "   churn\n",
       "0  False\n",
       "1  False\n",
       "2  False\n",
       "3  False\n",
       "4  False"
      ]
     },
     "execution_count": 79,
     "metadata": {},
     "output_type": "execute_result"
    }
   ],
   "source": [
    "#checking boolean \n",
    "boolean_columns = df.select_dtypes(include= \"bool\")\n",
    "print(boolean_columns.columns)\n",
    "boolean_columns.head()"
   ]
  },
  {
   "cell_type": "code",
   "execution_count": 149,
   "metadata": {},
   "outputs": [
    {
     "data": {
      "text/plain": [
       "state                       51\n",
       "account length             212\n",
       "area code                    3\n",
       "phone number              3333\n",
       "international plan           2\n",
       "voice mail plan              2\n",
       "number vmail messages       46\n",
       "total day minutes         1667\n",
       "total day calls            119\n",
       "total day charge          1667\n",
       "total eve minutes         1611\n",
       "total eve calls            123\n",
       "total eve charge          1440\n",
       "total night minutes       1591\n",
       "total night calls          120\n",
       "total night charge         933\n",
       "total intl minutes         162\n",
       "total intl calls            21\n",
       "total intl charge          162\n",
       "customer service calls      10\n",
       "churn                        2\n",
       "dtype: int64"
      ]
     },
     "execution_count": 149,
     "metadata": {},
     "output_type": "execute_result"
    }
   ],
   "source": [
    "df.nunique()"
   ]
  },
  {
   "attachments": {},
   "cell_type": "markdown",
   "metadata": {},
   "source": [
    "# Categorical columns"
   ]
  },
  {
   "attachments": {},
   "cell_type": "markdown",
   "metadata": {},
   "source": [
    "## analysis of single variables"
   ]
  },
  {
   "cell_type": "code",
   "execution_count": 175,
   "metadata": {},
   "outputs": [],
   "source": [
    "# plotting categorical values and printing their values counts\n",
    "def count_plot_for(feature):\n",
    "  sns.countplot(data=df, x=feature)\n",
    "  plt.title(feature)\n",
    "  plt.show()\n",
    "  \n",
    "  print(df[feature].value_counts())"
   ]
  },
  {
   "cell_type": "code",
   "execution_count": 176,
   "metadata": {},
   "outputs": [
    {
     "data": {
      "image/png": "[encoded data removed]",
      "text/plain": [
       "<Figure size 432x288 with 1 Axes>"
      ]
     },
     "metadata": {
      "needs_background": "light"
     },
     "output_type": "display_data"
    },
    {
     "name": "stdout",
     "output_type": "stream",
     "text": [
      "False    2850\n",
      "True      483\n",
      "Name: churn, dtype: int64\n"
     ]
    }
   ],
   "source": [
    "count_plot_for(\"churn\")"
   ]
  },
  {
   "cell_type": "code",
   "execution_count": 177,
   "metadata": {},
   "outputs": [
    {
     "data": {
      "image/png": "[encoded data removed]",
      "text/plain": [
       "<Figure size 432x288 with 1 Axes>"
      ]
     },
     "metadata": {
      "needs_background": "light"
     },
     "output_type": "display_data"
    },
    {
     "name": "stdout",
     "output_type": "stream",
     "text": [
      "no     3010\n",
      "yes     323\n",
      "Name: international plan, dtype: int64\n"
     ]
    }
   ],
   "source": [
    "count_plot_for(\"international plan\")"
   ]
  },
  {
   "cell_type": "code",
   "execution_count": 178,
   "metadata": {},
   "outputs": [
    {
     "data": {
      "image/png": "[encoded data removed]",
      "text/plain": [
       "<Figure size 432x288 with 1 Axes>"
      ]
     },
     "metadata": {
      "needs_background": "light"
     },
     "output_type": "display_data"
    },
    {
     "name": "stdout",
     "output_type": "stream",
     "text": [
      "no     2411\n",
      "yes     922\n",
      "Name: voice mail plan, dtype: int64\n"
     ]
    }
   ],
   "source": [
    "count_plot_for(\"voice mail plan\")"
   ]
  },
  {
   "attachments": {},
   "cell_type": "markdown",
   "metadata": {},
   "source": [
    "## bivariate analysis"
   ]
  },
  {
   "cell_type": "code",
   "execution_count": 179,
   "metadata": {},
   "outputs": [],
   "source": [
    "def bivariate_analysis(feature, categorical_variable):\n",
    "  sns.countplot(data=df, x=feature, hue=categorical_variable)\n",
    "  plt.title(f\"{feature} vs {categorical_variable}\")\n",
    "  plt.show()\n",
    "\n",
    "  print(df.groupby([feature, categorical_variable]).size())\n"
   ]
  },
  {
   "cell_type": "code",
   "execution_count": 180,
   "metadata": {},
   "outputs": [
    {
     "data": {
      "image/png": "[encoded data removed]",
      "text/plain": [
       "<Figure size 432x288 with 1 Axes>"
      ]
     },
     "metadata": {
      "needs_background": "light"
     },
     "output_type": "display_data"
    },
    {
     "name": "stdout",
     "output_type": "stream",
     "text": [
      "international plan  churn\n",
      "no                  False    2664\n",
      "                    True      346\n",
      "yes                 False     186\n",
      "                    True      137\n",
      "dtype: int64\n"
     ]
    }
   ],
   "source": [
    "bivariate_analysis(\"international plan\", \"churn\")"
   ]
  },
  {
   "cell_type": "code",
   "execution_count": 181,
   "metadata": {},
   "outputs": [
    {
     "data": {
      "image/png": "[encoded data removed]",
      "text/plain": [
       "<Figure size 432x288 with 1 Axes>"
      ]
     },
     "metadata": {
      "needs_background": "light"
     },
     "output_type": "display_data"
    },
    {
     "name": "stdout",
     "output_type": "stream",
     "text": [
      "voice mail plan  churn\n",
      "no               False    2008\n",
      "                 True      403\n",
      "yes              False     842\n",
      "                 True       80\n",
      "dtype: int64\n"
     ]
    }
   ],
   "source": [
    "bivariate_analysis(\"voice mail plan\", \"churn\")"
   ]
  },
  {
   "attachments": {},
   "cell_type": "markdown",
   "metadata": {},
   "source": [
    "smote oversampling of minority\n",
    "softmaxs\n",
    "\n",
    "binnary use sigmoid"
   ]
  },
  {
   "cell_type": "code",
   "execution_count": 185,
   "metadata": {},
   "outputs": [
    {
     "data": {
      "image/png": "[encoded data removed]",
      "text/plain": [
       "<Figure size 1440x1440 with 20 Axes>"
      ]
     },
     "metadata": {
      "needs_background": "light"
     },
     "output_type": "display_data"
    }
   ],
   "source": [
    "fig, axs = plt.subplots(ncols=5, nrows=4, figsize=(20, 20))\n",
    "\n",
    "for ax, col in zip(axs.ravel(), df.select_dtypes(include='number').columns):\n",
    "    sns.histplot(df[col], kde=True, ax=ax)\n",
    "    ax.set_xlabel('Value')\n",
    "    ax.set_ylabel('Frequency')\n",
    "    ax.set_title(f'Distribution of {col}')\n",
    "    \n",
    "\n",
    "plt.tight_layout()\n",
    "plt.show()\n"
   ]
  },
  {
   "attachments": {},
   "cell_type": "markdown",
   "metadata": {},
   "source": [
    "# multivariate analysis"
   ]
  },
  {
   "cell_type": "code",
   "execution_count": null,
   "metadata": {},
   "outputs": [],
   "source": []
  },
  {
   "cell_type": "code",
   "execution_count": null,
   "metadata": {},
   "outputs": [],
   "source": []
  },
  {
   "attachments": {},
   "cell_type": "markdown",
   "metadata": {},
   "source": [
    "here value has more people churning"
   ]
  },
  {
   "cell_type": "code",
   "execution_count": 148,
   "metadata": {},
   "outputs": [
    {
     "data": {
      "text/html": [
       "<div>\n",
       "<style scoped>\n",
       "    .dataframe tbody tr th:only-of-type {\n",
       "        vertical-align: middle;\n",
       "    }\n",
       "\n",
       "    .dataframe tbody tr th {\n",
       "        vertical-align: top;\n",
       "    }\n",
       "\n",
       "    .dataframe thead th {\n",
       "        text-align: right;\n",
       "    }\n",
       "</style>\n",
       "<table border=\"1\" class=\"dataframe\">\n",
       "  <thead>\n",
       "    <tr style=\"text-align: right;\">\n",
       "      <th></th>\n",
       "      <th>account length</th>\n",
       "      <th>area code</th>\n",
       "      <th>number vmail messages</th>\n",
       "      <th>total day minutes</th>\n",
       "      <th>total day calls</th>\n",
       "      <th>total day charge</th>\n",
       "      <th>total eve minutes</th>\n",
       "      <th>total eve calls</th>\n",
       "      <th>total eve charge</th>\n",
       "      <th>total night minutes</th>\n",
       "      <th>total night calls</th>\n",
       "      <th>total night charge</th>\n",
       "      <th>total intl minutes</th>\n",
       "      <th>total intl calls</th>\n",
       "      <th>total intl charge</th>\n",
       "      <th>customer service calls</th>\n",
       "    </tr>\n",
       "  </thead>\n",
       "  <tbody>\n",
       "    <tr>\n",
       "      <th>count</th>\n",
       "      <td>3333.000000</td>\n",
       "      <td>3333.000000</td>\n",
       "      <td>3333.000000</td>\n",
       "      <td>3333.000000</td>\n",
       "      <td>3333.000000</td>\n",
       "      <td>3333.000000</td>\n",
       "      <td>3333.000000</td>\n",
       "      <td>3333.000000</td>\n",
       "      <td>3333.000000</td>\n",
       "      <td>3333.000000</td>\n",
       "      <td>3333.000000</td>\n",
       "      <td>3333.000000</td>\n",
       "      <td>3333.000000</td>\n",
       "      <td>3333.000000</td>\n",
       "      <td>3333.000000</td>\n",
       "      <td>3333.000000</td>\n",
       "    </tr>\n",
       "    <tr>\n",
       "      <th>mean</th>\n",
       "      <td>101.064806</td>\n",
       "      <td>437.182418</td>\n",
       "      <td>8.099010</td>\n",
       "      <td>179.775098</td>\n",
       "      <td>100.435644</td>\n",
       "      <td>30.562307</td>\n",
       "      <td>200.980348</td>\n",
       "      <td>100.114311</td>\n",
       "      <td>17.083540</td>\n",
       "      <td>200.872037</td>\n",
       "      <td>100.107711</td>\n",
       "      <td>9.039325</td>\n",
       "      <td>10.237294</td>\n",
       "      <td>4.479448</td>\n",
       "      <td>2.764581</td>\n",
       "      <td>1.562856</td>\n",
       "    </tr>\n",
       "    <tr>\n",
       "      <th>std</th>\n",
       "      <td>39.822106</td>\n",
       "      <td>42.371290</td>\n",
       "      <td>13.688365</td>\n",
       "      <td>54.467389</td>\n",
       "      <td>20.069084</td>\n",
       "      <td>9.259435</td>\n",
       "      <td>50.713844</td>\n",
       "      <td>19.922625</td>\n",
       "      <td>4.310668</td>\n",
       "      <td>50.573847</td>\n",
       "      <td>19.568609</td>\n",
       "      <td>2.275873</td>\n",
       "      <td>2.791840</td>\n",
       "      <td>2.461214</td>\n",
       "      <td>0.753773</td>\n",
       "      <td>1.315491</td>\n",
       "    </tr>\n",
       "    <tr>\n",
       "      <th>min</th>\n",
       "      <td>1.000000</td>\n",
       "      <td>408.000000</td>\n",
       "      <td>0.000000</td>\n",
       "      <td>0.000000</td>\n",
       "      <td>0.000000</td>\n",
       "      <td>0.000000</td>\n",
       "      <td>0.000000</td>\n",
       "      <td>0.000000</td>\n",
       "      <td>0.000000</td>\n",
       "      <td>23.200000</td>\n",
       "      <td>33.000000</td>\n",
       "      <td>1.040000</td>\n",
       "      <td>0.000000</td>\n",
       "      <td>0.000000</td>\n",
       "      <td>0.000000</td>\n",
       "      <td>0.000000</td>\n",
       "    </tr>\n",
       "    <tr>\n",
       "      <th>25%</th>\n",
       "      <td>74.000000</td>\n",
       "      <td>408.000000</td>\n",
       "      <td>0.000000</td>\n",
       "      <td>143.700000</td>\n",
       "      <td>87.000000</td>\n",
       "      <td>24.430000</td>\n",
       "      <td>166.600000</td>\n",
       "      <td>87.000000</td>\n",
       "      <td>14.160000</td>\n",
       "      <td>167.000000</td>\n",
       "      <td>87.000000</td>\n",
       "      <td>7.520000</td>\n",
       "      <td>8.500000</td>\n",
       "      <td>3.000000</td>\n",
       "      <td>2.300000</td>\n",
       "      <td>1.000000</td>\n",
       "    </tr>\n",
       "    <tr>\n",
       "      <th>50%</th>\n",
       "      <td>101.000000</td>\n",
       "      <td>415.000000</td>\n",
       "      <td>0.000000</td>\n",
       "      <td>179.400000</td>\n",
       "      <td>101.000000</td>\n",
       "      <td>30.500000</td>\n",
       "      <td>201.400000</td>\n",
       "      <td>100.000000</td>\n",
       "      <td>17.120000</td>\n",
       "      <td>201.200000</td>\n",
       "      <td>100.000000</td>\n",
       "      <td>9.050000</td>\n",
       "      <td>10.300000</td>\n",
       "      <td>4.000000</td>\n",
       "      <td>2.780000</td>\n",
       "      <td>1.000000</td>\n",
       "    </tr>\n",
       "    <tr>\n",
       "      <th>75%</th>\n",
       "      <td>127.000000</td>\n",
       "      <td>510.000000</td>\n",
       "      <td>20.000000</td>\n",
       "      <td>216.400000</td>\n",
       "      <td>114.000000</td>\n",
       "      <td>36.790000</td>\n",
       "      <td>235.300000</td>\n",
       "      <td>114.000000</td>\n",
       "      <td>20.000000</td>\n",
       "      <td>235.300000</td>\n",
       "      <td>113.000000</td>\n",
       "      <td>10.590000</td>\n",
       "      <td>12.100000</td>\n",
       "      <td>6.000000</td>\n",
       "      <td>3.270000</td>\n",
       "      <td>2.000000</td>\n",
       "    </tr>\n",
       "    <tr>\n",
       "      <th>max</th>\n",
       "      <td>243.000000</td>\n",
       "      <td>510.000000</td>\n",
       "      <td>51.000000</td>\n",
       "      <td>350.800000</td>\n",
       "      <td>165.000000</td>\n",
       "      <td>59.640000</td>\n",
       "      <td>363.700000</td>\n",
       "      <td>170.000000</td>\n",
       "      <td>30.910000</td>\n",
       "      <td>395.000000</td>\n",
       "      <td>175.000000</td>\n",
       "      <td>17.770000</td>\n",
       "      <td>20.000000</td>\n",
       "      <td>20.000000</td>\n",
       "      <td>5.400000</td>\n",
       "      <td>9.000000</td>\n",
       "    </tr>\n",
       "  </tbody>\n",
       "</table>\n",
       "</div>"
      ],
      "text/plain": [
       "       account length    area code  number vmail messages  total day minutes  \\\n",
       "count     3333.000000  3333.000000            3333.000000        3333.000000   \n",
       "mean       101.064806   437.182418               8.099010         179.775098   \n",
       "std         39.822106    42.371290              13.688365          54.467389   \n",
       "min          1.000000   408.000000               0.000000           0.000000   \n",
       "25%         74.000000   408.000000               0.000000         143.700000   \n",
       "50%        101.000000   415.000000               0.000000         179.400000   \n",
       "75%        127.000000   510.000000              20.000000         216.400000   \n",
       "max        243.000000   510.000000              51.000000         350.800000   \n",
       "\n",
       "       total day calls  total day charge  total eve minutes  total eve calls  \\\n",
       "count      3333.000000       3333.000000        3333.000000      3333.000000   \n",
       "mean        100.435644         30.562307         200.980348       100.114311   \n",
       "std          20.069084          9.259435          50.713844        19.922625   \n",
       "min           0.000000          0.000000           0.000000         0.000000   \n",
       "25%          87.000000         24.430000         166.600000        87.000000   \n",
       "50%         101.000000         30.500000         201.400000       100.000000   \n",
       "75%         114.000000         36.790000         235.300000       114.000000   \n",
       "max         165.000000         59.640000         363.700000       170.000000   \n",
       "\n",
       "       total eve charge  total night minutes  total night calls  \\\n",
       "count       3333.000000          3333.000000        3333.000000   \n",
       "mean          17.083540           200.872037         100.107711   \n",
       "std            4.310668            50.573847          19.568609   \n",
       "min            0.000000            23.200000          33.000000   \n",
       "25%           14.160000           167.000000          87.000000   \n",
       "50%           17.120000           201.200000         100.000000   \n",
       "75%           20.000000           235.300000         113.000000   \n",
       "max           30.910000           395.000000         175.000000   \n",
       "\n",
       "       total night charge  total intl minutes  total intl calls  \\\n",
       "count         3333.000000         3333.000000       3333.000000   \n",
       "mean             9.039325           10.237294          4.479448   \n",
       "std              2.275873            2.791840          2.461214   \n",
       "min              1.040000            0.000000          0.000000   \n",
       "25%              7.520000            8.500000          3.000000   \n",
       "50%              9.050000           10.300000          4.000000   \n",
       "75%             10.590000           12.100000          6.000000   \n",
       "max             17.770000           20.000000         20.000000   \n",
       "\n",
       "       total intl charge  customer service calls  \n",
       "count        3333.000000             3333.000000  \n",
       "mean            2.764581                1.562856  \n",
       "std             0.753773                1.315491  \n",
       "min             0.000000                0.000000  \n",
       "25%             2.300000                1.000000  \n",
       "50%             2.780000                1.000000  \n",
       "75%             3.270000                2.000000  \n",
       "max             5.400000                9.000000  "
      ]
     },
     "execution_count": 148,
     "metadata": {},
     "output_type": "execute_result"
    }
   ],
   "source": [
    "#checking more information about the numerical columns\n",
    "df.describe()"
   ]
  },
  {
   "cell_type": "code",
   "execution_count": 126,
   "metadata": {},
   "outputs": [
    {
     "data": {
      "text/html": [
       "<style  type=\"text/css\" >\n",
       "#T_945e95ea_f775_11ed_9253_0c84dcded466row0_col0,#T_945e95ea_f775_11ed_9253_0c84dcded466row1_col1,#T_945e95ea_f775_11ed_9253_0c84dcded466row2_col2,#T_945e95ea_f775_11ed_9253_0c84dcded466row3_col3,#T_945e95ea_f775_11ed_9253_0c84dcded466row3_col5,#T_945e95ea_f775_11ed_9253_0c84dcded466row4_col4,#T_945e95ea_f775_11ed_9253_0c84dcded466row5_col3,#T_945e95ea_f775_11ed_9253_0c84dcded466row5_col5,#T_945e95ea_f775_11ed_9253_0c84dcded466row6_col6,#T_945e95ea_f775_11ed_9253_0c84dcded466row6_col8,#T_945e95ea_f775_11ed_9253_0c84dcded466row7_col7,#T_945e95ea_f775_11ed_9253_0c84dcded466row8_col6,#T_945e95ea_f775_11ed_9253_0c84dcded466row8_col8,#T_945e95ea_f775_11ed_9253_0c84dcded466row9_col9,#T_945e95ea_f775_11ed_9253_0c84dcded466row9_col11,#T_945e95ea_f775_11ed_9253_0c84dcded466row10_col10,#T_945e95ea_f775_11ed_9253_0c84dcded466row11_col9,#T_945e95ea_f775_11ed_9253_0c84dcded466row11_col11,#T_945e95ea_f775_11ed_9253_0c84dcded466row12_col12,#T_945e95ea_f775_11ed_9253_0c84dcded466row12_col14,#T_945e95ea_f775_11ed_9253_0c84dcded466row13_col13,#T_945e95ea_f775_11ed_9253_0c84dcded466row14_col12,#T_945e95ea_f775_11ed_9253_0c84dcded466row14_col14,#T_945e95ea_f775_11ed_9253_0c84dcded466row15_col15,#T_945e95ea_f775_11ed_9253_0c84dcded466row16_col16{\n",
       "            background-color:  #b40426;\n",
       "            color:  #f1f1f1;\n",
       "        }#T_945e95ea_f775_11ed_9253_0c84dcded466row0_col1,#T_945e95ea_f775_11ed_9253_0c84dcded466row1_col4,#T_945e95ea_f775_11ed_9253_0c84dcded466row1_col9,#T_945e95ea_f775_11ed_9253_0c84dcded466row1_col11,#T_945e95ea_f775_11ed_9253_0c84dcded466row2_col0,#T_945e95ea_f775_11ed_9253_0c84dcded466row2_col4,#T_945e95ea_f775_11ed_9253_0c84dcded466row3_col12,#T_945e95ea_f775_11ed_9253_0c84dcded466row3_col14,#T_945e95ea_f775_11ed_9253_0c84dcded466row5_col12,#T_945e95ea_f775_11ed_9253_0c84dcded466row5_col14,#T_945e95ea_f775_11ed_9253_0c84dcded466row7_col6,#T_945e95ea_f775_11ed_9253_0c84dcded466row7_col8,#T_945e95ea_f775_11ed_9253_0c84dcded466row9_col6,#T_945e95ea_f775_11ed_9253_0c84dcded466row9_col7,#T_945e95ea_f775_11ed_9253_0c84dcded466row9_col8,#T_945e95ea_f775_11ed_9253_0c84dcded466row9_col15,#T_945e95ea_f775_11ed_9253_0c84dcded466row11_col6,#T_945e95ea_f775_11ed_9253_0c84dcded466row11_col7,#T_945e95ea_f775_11ed_9253_0c84dcded466row11_col8,#T_945e95ea_f775_11ed_9253_0c84dcded466row11_col15,#T_945e95ea_f775_11ed_9253_0c84dcded466row12_col6,#T_945e95ea_f775_11ed_9253_0c84dcded466row12_col8,#T_945e95ea_f775_11ed_9253_0c84dcded466row12_col15,#T_945e95ea_f775_11ed_9253_0c84dcded466row14_col6,#T_945e95ea_f775_11ed_9253_0c84dcded466row14_col8,#T_945e95ea_f775_11ed_9253_0c84dcded466row14_col15,#T_945e95ea_f775_11ed_9253_0c84dcded466row15_col0,#T_945e95ea_f775_11ed_9253_0c84dcded466row15_col6,#T_945e95ea_f775_11ed_9253_0c84dcded466row15_col8,#T_945e95ea_f775_11ed_9253_0c84dcded466row15_col12,#T_945e95ea_f775_11ed_9253_0c84dcded466row15_col14{\n",
       "            background-color:  #3d50c3;\n",
       "            color:  #f1f1f1;\n",
       "        }#T_945e95ea_f775_11ed_9253_0c84dcded466row0_col2,#T_945e95ea_f775_11ed_9253_0c84dcded466row7_col2{\n",
       "            background-color:  #516ddb;\n",
       "            color:  #000000;\n",
       "        }#T_945e95ea_f775_11ed_9253_0c84dcded466row0_col3,#T_945e95ea_f775_11ed_9253_0c84dcded466row0_col5,#T_945e95ea_f775_11ed_9253_0c84dcded466row3_col0,#T_945e95ea_f775_11ed_9253_0c84dcded466row3_col9,#T_945e95ea_f775_11ed_9253_0c84dcded466row3_col11,#T_945e95ea_f775_11ed_9253_0c84dcded466row4_col7,#T_945e95ea_f775_11ed_9253_0c84dcded466row5_col0,#T_945e95ea_f775_11ed_9253_0c84dcded466row5_col9,#T_945e95ea_f775_11ed_9253_0c84dcded466row5_col11,#T_945e95ea_f775_11ed_9253_0c84dcded466row9_col1,#T_945e95ea_f775_11ed_9253_0c84dcded466row9_col3,#T_945e95ea_f775_11ed_9253_0c84dcded466row9_col5,#T_945e95ea_f775_11ed_9253_0c84dcded466row10_col7,#T_945e95ea_f775_11ed_9253_0c84dcded466row11_col1,#T_945e95ea_f775_11ed_9253_0c84dcded466row11_col3,#T_945e95ea_f775_11ed_9253_0c84dcded466row11_col5,#T_945e95ea_f775_11ed_9253_0c84dcded466row13_col10{\n",
       "            background-color:  #3f53c6;\n",
       "            color:  #f1f1f1;\n",
       "        }#T_945e95ea_f775_11ed_9253_0c84dcded466row0_col4{\n",
       "            background-color:  #4c66d6;\n",
       "            color:  #000000;\n",
       "        }#T_945e95ea_f775_11ed_9253_0c84dcded466row0_col6,#T_945e95ea_f775_11ed_9253_0c84dcded466row0_col8,#T_945e95ea_f775_11ed_9253_0c84dcded466row0_col15,#T_945e95ea_f775_11ed_9253_0c84dcded466row2_col3,#T_945e95ea_f775_11ed_9253_0c84dcded466row2_col5,#T_945e95ea_f775_11ed_9253_0c84dcded466row3_col1,#T_945e95ea_f775_11ed_9253_0c84dcded466row4_col1,#T_945e95ea_f775_11ed_9253_0c84dcded466row5_col1,#T_945e95ea_f775_11ed_9253_0c84dcded466row7_col1,#T_945e95ea_f775_11ed_9253_0c84dcded466row7_col9,#T_945e95ea_f775_11ed_9253_0c84dcded466row7_col11,#T_945e95ea_f775_11ed_9253_0c84dcded466row15_col7{\n",
       "            background-color:  #3e51c5;\n",
       "            color:  #f1f1f1;\n",
       "        }#T_945e95ea_f775_11ed_9253_0c84dcded466row0_col7,#T_945e95ea_f775_11ed_9253_0c84dcded466row0_col14,#T_945e95ea_f775_11ed_9253_0c84dcded466row3_col4,#T_945e95ea_f775_11ed_9253_0c84dcded466row3_col6,#T_945e95ea_f775_11ed_9253_0c84dcded466row3_col8,#T_945e95ea_f775_11ed_9253_0c84dcded466row5_col4,#T_945e95ea_f775_11ed_9253_0c84dcded466row5_col6,#T_945e95ea_f775_11ed_9253_0c84dcded466row5_col8,#T_945e95ea_f775_11ed_9253_0c84dcded466row7_col3,#T_945e95ea_f775_11ed_9253_0c84dcded466row7_col5,#T_945e95ea_f775_11ed_9253_0c84dcded466row9_col10,#T_945e95ea_f775_11ed_9253_0c84dcded466row10_col6,#T_945e95ea_f775_11ed_9253_0c84dcded466row10_col8,#T_945e95ea_f775_11ed_9253_0c84dcded466row11_col10,#T_945e95ea_f775_11ed_9253_0c84dcded466row13_col7,#T_945e95ea_f775_11ed_9253_0c84dcded466row16_col0,#T_945e95ea_f775_11ed_9253_0c84dcded466row16_col1{\n",
       "            background-color:  #4358cb;\n",
       "            color:  #f1f1f1;\n",
       "        }#T_945e95ea_f775_11ed_9253_0c84dcded466row0_col9,#T_945e95ea_f775_11ed_9253_0c84dcded466row0_col10,#T_945e95ea_f775_11ed_9253_0c84dcded466row0_col11,#T_945e95ea_f775_11ed_9253_0c84dcded466row1_col3,#T_945e95ea_f775_11ed_9253_0c84dcded466row1_col5,#T_945e95ea_f775_11ed_9253_0c84dcded466row2_col7,#T_945e95ea_f775_11ed_9253_0c84dcded466row2_col15,#T_945e95ea_f775_11ed_9253_0c84dcded466row3_col15,#T_945e95ea_f775_11ed_9253_0c84dcded466row5_col15,#T_945e95ea_f775_11ed_9253_0c84dcded466row6_col0,#T_945e95ea_f775_11ed_9253_0c84dcded466row6_col12,#T_945e95ea_f775_11ed_9253_0c84dcded466row6_col14,#T_945e95ea_f775_11ed_9253_0c84dcded466row6_col15,#T_945e95ea_f775_11ed_9253_0c84dcded466row8_col0,#T_945e95ea_f775_11ed_9253_0c84dcded466row8_col12,#T_945e95ea_f775_11ed_9253_0c84dcded466row8_col14,#T_945e95ea_f775_11ed_9253_0c84dcded466row8_col15,#T_945e95ea_f775_11ed_9253_0c84dcded466row9_col0,#T_945e95ea_f775_11ed_9253_0c84dcded466row10_col12,#T_945e95ea_f775_11ed_9253_0c84dcded466row10_col14,#T_945e95ea_f775_11ed_9253_0c84dcded466row10_col15,#T_945e95ea_f775_11ed_9253_0c84dcded466row11_col0,#T_945e95ea_f775_11ed_9253_0c84dcded466row12_col1,#T_945e95ea_f775_11ed_9253_0c84dcded466row12_col10,#T_945e95ea_f775_11ed_9253_0c84dcded466row14_col1,#T_945e95ea_f775_11ed_9253_0c84dcded466row14_col10,#T_945e95ea_f775_11ed_9253_0c84dcded466row15_col9,#T_945e95ea_f775_11ed_9253_0c84dcded466row15_col10,#T_945e95ea_f775_11ed_9253_0c84dcded466row15_col11{\n",
       "            background-color:  #3c4ec2;\n",
       "            color:  #f1f1f1;\n",
       "        }#T_945e95ea_f775_11ed_9253_0c84dcded466row0_col12,#T_945e95ea_f775_11ed_9253_0c84dcded466row1_col6,#T_945e95ea_f775_11ed_9253_0c84dcded466row1_col8,#T_945e95ea_f775_11ed_9253_0c84dcded466row1_col13,#T_945e95ea_f775_11ed_9253_0c84dcded466row2_col10,#T_945e95ea_f775_11ed_9253_0c84dcded466row3_col7,#T_945e95ea_f775_11ed_9253_0c84dcded466row5_col7,#T_945e95ea_f775_11ed_9253_0c84dcded466row6_col1,#T_945e95ea_f775_11ed_9253_0c84dcded466row6_col10,#T_945e95ea_f775_11ed_9253_0c84dcded466row7_col4,#T_945e95ea_f775_11ed_9253_0c84dcded466row7_col10,#T_945e95ea_f775_11ed_9253_0c84dcded466row7_col12,#T_945e95ea_f775_11ed_9253_0c84dcded466row7_col14,#T_945e95ea_f775_11ed_9253_0c84dcded466row8_col1,#T_945e95ea_f775_11ed_9253_0c84dcded466row8_col10,#T_945e95ea_f775_11ed_9253_0c84dcded466row10_col9,#T_945e95ea_f775_11ed_9253_0c84dcded466row10_col11,#T_945e95ea_f775_11ed_9253_0c84dcded466row13_col4,#T_945e95ea_f775_11ed_9253_0c84dcded466row13_col6,#T_945e95ea_f775_11ed_9253_0c84dcded466row13_col8,#T_945e95ea_f775_11ed_9253_0c84dcded466row16_col10{\n",
       "            background-color:  #4257c9;\n",
       "            color:  #f1f1f1;\n",
       "        }#T_945e95ea_f775_11ed_9253_0c84dcded466row0_col13,#T_945e95ea_f775_11ed_9253_0c84dcded466row7_col13,#T_945e95ea_f775_11ed_9253_0c84dcded466row15_col2{\n",
       "            background-color:  #4f69d9;\n",
       "            color:  #000000;\n",
       "        }#T_945e95ea_f775_11ed_9253_0c84dcded466row0_col16,#T_945e95ea_f775_11ed_9253_0c84dcded466row13_col2{\n",
       "            background-color:  #5875e1;\n",
       "            color:  #000000;\n",
       "        }#T_945e95ea_f775_11ed_9253_0c84dcded466row1_col0,#T_945e95ea_f775_11ed_9253_0c84dcded466row1_col7,#T_945e95ea_f775_11ed_9253_0c84dcded466row1_col12,#T_945e95ea_f775_11ed_9253_0c84dcded466row1_col14,#T_945e95ea_f775_11ed_9253_0c84dcded466row2_col16,#T_945e95ea_f775_11ed_9253_0c84dcded466row4_col6,#T_945e95ea_f775_11ed_9253_0c84dcded466row4_col8,#T_945e95ea_f775_11ed_9253_0c84dcded466row4_col10,#T_945e95ea_f775_11ed_9253_0c84dcded466row4_col15,#T_945e95ea_f775_11ed_9253_0c84dcded466row6_col4,#T_945e95ea_f775_11ed_9253_0c84dcded466row6_col7,#T_945e95ea_f775_11ed_9253_0c84dcded466row6_col9,#T_945e95ea_f775_11ed_9253_0c84dcded466row6_col11,#T_945e95ea_f775_11ed_9253_0c84dcded466row8_col4,#T_945e95ea_f775_11ed_9253_0c84dcded466row8_col7,#T_945e95ea_f775_11ed_9253_0c84dcded466row8_col9,#T_945e95ea_f775_11ed_9253_0c84dcded466row8_col11,#T_945e95ea_f775_11ed_9253_0c84dcded466row9_col12,#T_945e95ea_f775_11ed_9253_0c84dcded466row9_col14,#T_945e95ea_f775_11ed_9253_0c84dcded466row10_col0,#T_945e95ea_f775_11ed_9253_0c84dcded466row10_col4,#T_945e95ea_f775_11ed_9253_0c84dcded466row11_col12,#T_945e95ea_f775_11ed_9253_0c84dcded466row11_col14,#T_945e95ea_f775_11ed_9253_0c84dcded466row12_col3,#T_945e95ea_f775_11ed_9253_0c84dcded466row12_col5,#T_945e95ea_f775_11ed_9253_0c84dcded466row12_col9,#T_945e95ea_f775_11ed_9253_0c84dcded466row12_col11,#T_945e95ea_f775_11ed_9253_0c84dcded466row13_col1,#T_945e95ea_f775_11ed_9253_0c84dcded466row13_col9,#T_945e95ea_f775_11ed_9253_0c84dcded466row13_col11,#T_945e95ea_f775_11ed_9253_0c84dcded466row13_col15,#T_945e95ea_f775_11ed_9253_0c84dcded466row14_col3,#T_945e95ea_f775_11ed_9253_0c84dcded466row14_col5,#T_945e95ea_f775_11ed_9253_0c84dcded466row14_col9,#T_945e95ea_f775_11ed_9253_0c84dcded466row14_col11,#T_945e95ea_f775_11ed_9253_0c84dcded466row15_col3,#T_945e95ea_f775_11ed_9253_0c84dcded466row15_col4,#T_945e95ea_f775_11ed_9253_0c84dcded466row15_col5,#T_945e95ea_f775_11ed_9253_0c84dcded466row16_col2,#T_945e95ea_f775_11ed_9253_0c84dcded466row16_col13{\n",
       "            background-color:  #3b4cc0;\n",
       "            color:  #f1f1f1;\n",
       "        }#T_945e95ea_f775_11ed_9253_0c84dcded466row1_col2,#T_945e95ea_f775_11ed_9253_0c84dcded466row12_col13,#T_945e95ea_f775_11ed_9253_0c84dcded466row14_col13{\n",
       "            background-color:  #536edd;\n",
       "            color:  #000000;\n",
       "        }#T_945e95ea_f775_11ed_9253_0c84dcded466row1_col10,#T_945e95ea_f775_11ed_9253_0c84dcded466row2_col6,#T_945e95ea_f775_11ed_9253_0c84dcded466row2_col8,#T_945e95ea_f775_11ed_9253_0c84dcded466row4_col9,#T_945e95ea_f775_11ed_9253_0c84dcded466row4_col11,#T_945e95ea_f775_11ed_9253_0c84dcded466row9_col13,#T_945e95ea_f775_11ed_9253_0c84dcded466row10_col3,#T_945e95ea_f775_11ed_9253_0c84dcded466row10_col5,#T_945e95ea_f775_11ed_9253_0c84dcded466row11_col13{\n",
       "            background-color:  #455cce;\n",
       "            color:  #f1f1f1;\n",
       "        }#T_945e95ea_f775_11ed_9253_0c84dcded466row1_col15,#T_945e95ea_f775_11ed_9253_0c84dcded466row9_col4,#T_945e95ea_f775_11ed_9253_0c84dcded466row11_col4{\n",
       "            background-color:  #485fd1;\n",
       "            color:  #f1f1f1;\n",
       "        }#T_945e95ea_f775_11ed_9253_0c84dcded466row1_col16,#T_945e95ea_f775_11ed_9253_0c84dcded466row9_col2,#T_945e95ea_f775_11ed_9253_0c84dcded466row10_col2,#T_945e95ea_f775_11ed_9253_0c84dcded466row10_col16,#T_945e95ea_f775_11ed_9253_0c84dcded466row11_col2{\n",
       "            background-color:  #5572df;\n",
       "            color:  #000000;\n",
       "        }#T_945e95ea_f775_11ed_9253_0c84dcded466row2_col1,#T_945e95ea_f775_11ed_9253_0c84dcded466row2_col9,#T_945e95ea_f775_11ed_9253_0c84dcded466row2_col11,#T_945e95ea_f775_11ed_9253_0c84dcded466row2_col12,#T_945e95ea_f775_11ed_9253_0c84dcded466row2_col14,#T_945e95ea_f775_11ed_9253_0c84dcded466row4_col3,#T_945e95ea_f775_11ed_9253_0c84dcded466row4_col5,#T_945e95ea_f775_11ed_9253_0c84dcded466row6_col3,#T_945e95ea_f775_11ed_9253_0c84dcded466row6_col5,#T_945e95ea_f775_11ed_9253_0c84dcded466row7_col15,#T_945e95ea_f775_11ed_9253_0c84dcded466row8_col3,#T_945e95ea_f775_11ed_9253_0c84dcded466row8_col5,#T_945e95ea_f775_11ed_9253_0c84dcded466row12_col0,#T_945e95ea_f775_11ed_9253_0c84dcded466row12_col7,#T_945e95ea_f775_11ed_9253_0c84dcded466row13_col3,#T_945e95ea_f775_11ed_9253_0c84dcded466row13_col5,#T_945e95ea_f775_11ed_9253_0c84dcded466row14_col0,#T_945e95ea_f775_11ed_9253_0c84dcded466row14_col7,#T_945e95ea_f775_11ed_9253_0c84dcded466row16_col7{\n",
       "            background-color:  #4055c8;\n",
       "            color:  #f1f1f1;\n",
       "        }#T_945e95ea_f775_11ed_9253_0c84dcded466row2_col13{\n",
       "            background-color:  #4e68d8;\n",
       "            color:  #000000;\n",
       "        }#T_945e95ea_f775_11ed_9253_0c84dcded466row3_col2,#T_945e95ea_f775_11ed_9253_0c84dcded466row5_col2,#T_945e95ea_f775_11ed_9253_0c84dcded466row12_col2,#T_945e95ea_f775_11ed_9253_0c84dcded466row14_col2,#T_945e95ea_f775_11ed_9253_0c84dcded466row16_col12,#T_945e95ea_f775_11ed_9253_0c84dcded466row16_col14{\n",
       "            background-color:  #5470de;\n",
       "            color:  #000000;\n",
       "        }#T_945e95ea_f775_11ed_9253_0c84dcded466row3_col10,#T_945e95ea_f775_11ed_9253_0c84dcded466row4_col12,#T_945e95ea_f775_11ed_9253_0c84dcded466row4_col14,#T_945e95ea_f775_11ed_9253_0c84dcded466row5_col10,#T_945e95ea_f775_11ed_9253_0c84dcded466row10_col1,#T_945e95ea_f775_11ed_9253_0c84dcded466row12_col4,#T_945e95ea_f775_11ed_9253_0c84dcded466row14_col4,#T_945e95ea_f775_11ed_9253_0c84dcded466row16_col4{\n",
       "            background-color:  #465ecf;\n",
       "            color:  #f1f1f1;\n",
       "        }#T_945e95ea_f775_11ed_9253_0c84dcded466row3_col13,#T_945e95ea_f775_11ed_9253_0c84dcded466row5_col13{\n",
       "            background-color:  #4b64d5;\n",
       "            color:  #f1f1f1;\n",
       "        }#T_945e95ea_f775_11ed_9253_0c84dcded466row3_col16,#T_945e95ea_f775_11ed_9253_0c84dcded466row5_col16{\n",
       "            background-color:  #94b6ff;\n",
       "            color:  #000000;\n",
       "        }#T_945e95ea_f775_11ed_9253_0c84dcded466row4_col0,#T_945e95ea_f775_11ed_9253_0c84dcded466row4_col13,#T_945e95ea_f775_11ed_9253_0c84dcded466row6_col13,#T_945e95ea_f775_11ed_9253_0c84dcded466row8_col13{\n",
       "            background-color:  #4a63d3;\n",
       "            color:  #f1f1f1;\n",
       "        }#T_945e95ea_f775_11ed_9253_0c84dcded466row4_col2{\n",
       "            background-color:  #506bda;\n",
       "            color:  #000000;\n",
       "        }#T_945e95ea_f775_11ed_9253_0c84dcded466row4_col16,#T_945e95ea_f775_11ed_9253_0c84dcded466row6_col2,#T_945e95ea_f775_11ed_9253_0c84dcded466row8_col2{\n",
       "            background-color:  #5977e3;\n",
       "            color:  #000000;\n",
       "        }#T_945e95ea_f775_11ed_9253_0c84dcded466row6_col16,#T_945e95ea_f775_11ed_9253_0c84dcded466row8_col16{\n",
       "            background-color:  #6f92f3;\n",
       "            color:  #000000;\n",
       "        }#T_945e95ea_f775_11ed_9253_0c84dcded466row7_col0,#T_945e95ea_f775_11ed_9253_0c84dcded466row13_col0,#T_945e95ea_f775_11ed_9253_0c84dcded466row13_col16,#T_945e95ea_f775_11ed_9253_0c84dcded466row15_col13{\n",
       "            background-color:  #445acc;\n",
       "            color:  #f1f1f1;\n",
       "        }#T_945e95ea_f775_11ed_9253_0c84dcded466row7_col16{\n",
       "            background-color:  #5673e0;\n",
       "            color:  #000000;\n",
       "        }#T_945e95ea_f775_11ed_9253_0c84dcded466row9_col16,#T_945e95ea_f775_11ed_9253_0c84dcded466row11_col16{\n",
       "            background-color:  #5e7de7;\n",
       "            color:  #000000;\n",
       "        }#T_945e95ea_f775_11ed_9253_0c84dcded466row10_col13,#T_945e95ea_f775_11ed_9253_0c84dcded466row13_col12,#T_945e95ea_f775_11ed_9253_0c84dcded466row13_col14,#T_945e95ea_f775_11ed_9253_0c84dcded466row15_col1,#T_945e95ea_f775_11ed_9253_0c84dcded466row16_col9,#T_945e95ea_f775_11ed_9253_0c84dcded466row16_col11{\n",
       "            background-color:  #4961d2;\n",
       "            color:  #f1f1f1;\n",
       "        }#T_945e95ea_f775_11ed_9253_0c84dcded466row12_col16,#T_945e95ea_f775_11ed_9253_0c84dcded466row14_col16{\n",
       "            background-color:  #688aef;\n",
       "            color:  #000000;\n",
       "        }#T_945e95ea_f775_11ed_9253_0c84dcded466row15_col16{\n",
       "            background-color:  #96b7ff;\n",
       "            color:  #000000;\n",
       "        }#T_945e95ea_f775_11ed_9253_0c84dcded466row16_col3,#T_945e95ea_f775_11ed_9253_0c84dcded466row16_col5{\n",
       "            background-color:  #81a4fb;\n",
       "            color:  #000000;\n",
       "        }#T_945e95ea_f775_11ed_9253_0c84dcded466row16_col6,#T_945e95ea_f775_11ed_9253_0c84dcded466row16_col8{\n",
       "            background-color:  #5d7ce6;\n",
       "            color:  #000000;\n",
       "        }#T_945e95ea_f775_11ed_9253_0c84dcded466row16_col15{\n",
       "            background-color:  #84a7fc;\n",
       "            color:  #000000;\n",
       "        }</style><table id=\"T_945e95ea_f775_11ed_9253_0c84dcded466\" ><thead>    <tr>        <th class=\"blank level0\" ></th>        <th class=\"col_heading level0 col0\" >account length</th>        <th class=\"col_heading level0 col1\" >area code</th>        <th class=\"col_heading level0 col2\" >number vmail messages</th>        <th class=\"col_heading level0 col3\" >total day minutes</th>        <th class=\"col_heading level0 col4\" >total day calls</th>        <th class=\"col_heading level0 col5\" >total day charge</th>        <th class=\"col_heading level0 col6\" >total eve minutes</th>        <th class=\"col_heading level0 col7\" >total eve calls</th>        <th class=\"col_heading level0 col8\" >total eve charge</th>        <th class=\"col_heading level0 col9\" >total night minutes</th>        <th class=\"col_heading level0 col10\" >total night calls</th>        <th class=\"col_heading level0 col11\" >total night charge</th>        <th class=\"col_heading level0 col12\" >total intl minutes</th>        <th class=\"col_heading level0 col13\" >total intl calls</th>        <th class=\"col_heading level0 col14\" >total intl charge</th>        <th class=\"col_heading level0 col15\" >customer service calls</th>        <th class=\"col_heading level0 col16\" >churn</th>    </tr></thead><tbody>\n",
       "                <tr>\n",
       "                        <th id=\"T_945e95ea_f775_11ed_9253_0c84dcded466level0_row0\" class=\"row_heading level0 row0\" >account length</th>\n",
       "                        <td id=\"T_945e95ea_f775_11ed_9253_0c84dcded466row0_col0\" class=\"data row0 col0\" >1.00</td>\n",
       "                        <td id=\"T_945e95ea_f775_11ed_9253_0c84dcded466row0_col1\" class=\"data row0 col1\" >-0.01</td>\n",
       "                        <td id=\"T_945e95ea_f775_11ed_9253_0c84dcded466row0_col2\" class=\"data row0 col2\" >-0.00</td>\n",
       "                        <td id=\"T_945e95ea_f775_11ed_9253_0c84dcded466row0_col3\" class=\"data row0 col3\" >0.01</td>\n",
       "                        <td id=\"T_945e95ea_f775_11ed_9253_0c84dcded466row0_col4\" class=\"data row0 col4\" >0.04</td>\n",
       "                        <td id=\"T_945e95ea_f775_11ed_9253_0c84dcded466row0_col5\" class=\"data row0 col5\" >0.01</td>\n",
       "                        <td id=\"T_945e95ea_f775_11ed_9253_0c84dcded466row0_col6\" class=\"data row0 col6\" >-0.01</td>\n",
       "                        <td id=\"T_945e95ea_f775_11ed_9253_0c84dcded466row0_col7\" class=\"data row0 col7\" >0.02</td>\n",
       "                        <td id=\"T_945e95ea_f775_11ed_9253_0c84dcded466row0_col8\" class=\"data row0 col8\" >-0.01</td>\n",
       "                        <td id=\"T_945e95ea_f775_11ed_9253_0c84dcded466row0_col9\" class=\"data row0 col9\" >-0.01</td>\n",
       "                        <td id=\"T_945e95ea_f775_11ed_9253_0c84dcded466row0_col10\" class=\"data row0 col10\" >-0.01</td>\n",
       "                        <td id=\"T_945e95ea_f775_11ed_9253_0c84dcded466row0_col11\" class=\"data row0 col11\" >-0.01</td>\n",
       "                        <td id=\"T_945e95ea_f775_11ed_9253_0c84dcded466row0_col12\" class=\"data row0 col12\" >0.01</td>\n",
       "                        <td id=\"T_945e95ea_f775_11ed_9253_0c84dcded466row0_col13\" class=\"data row0 col13\" >0.02</td>\n",
       "                        <td id=\"T_945e95ea_f775_11ed_9253_0c84dcded466row0_col14\" class=\"data row0 col14\" >0.01</td>\n",
       "                        <td id=\"T_945e95ea_f775_11ed_9253_0c84dcded466row0_col15\" class=\"data row0 col15\" >-0.00</td>\n",
       "                        <td id=\"T_945e95ea_f775_11ed_9253_0c84dcded466row0_col16\" class=\"data row0 col16\" >0.02</td>\n",
       "            </tr>\n",
       "            <tr>\n",
       "                        <th id=\"T_945e95ea_f775_11ed_9253_0c84dcded466level0_row1\" class=\"row_heading level0 row1\" >area code</th>\n",
       "                        <td id=\"T_945e95ea_f775_11ed_9253_0c84dcded466row1_col0\" class=\"data row1 col0\" >-0.01</td>\n",
       "                        <td id=\"T_945e95ea_f775_11ed_9253_0c84dcded466row1_col1\" class=\"data row1 col1\" >1.00</td>\n",
       "                        <td id=\"T_945e95ea_f775_11ed_9253_0c84dcded466row1_col2\" class=\"data row1 col2\" >-0.00</td>\n",
       "                        <td id=\"T_945e95ea_f775_11ed_9253_0c84dcded466row1_col3\" class=\"data row1 col3\" >-0.01</td>\n",
       "                        <td id=\"T_945e95ea_f775_11ed_9253_0c84dcded466row1_col4\" class=\"data row1 col4\" >-0.01</td>\n",
       "                        <td id=\"T_945e95ea_f775_11ed_9253_0c84dcded466row1_col5\" class=\"data row1 col5\" >-0.01</td>\n",
       "                        <td id=\"T_945e95ea_f775_11ed_9253_0c84dcded466row1_col6\" class=\"data row1 col6\" >0.00</td>\n",
       "                        <td id=\"T_945e95ea_f775_11ed_9253_0c84dcded466row1_col7\" class=\"data row1 col7\" >-0.01</td>\n",
       "                        <td id=\"T_945e95ea_f775_11ed_9253_0c84dcded466row1_col8\" class=\"data row1 col8\" >0.00</td>\n",
       "                        <td id=\"T_945e95ea_f775_11ed_9253_0c84dcded466row1_col9\" class=\"data row1 col9\" >-0.01</td>\n",
       "                        <td id=\"T_945e95ea_f775_11ed_9253_0c84dcded466row1_col10\" class=\"data row1 col10\" >0.02</td>\n",
       "                        <td id=\"T_945e95ea_f775_11ed_9253_0c84dcded466row1_col11\" class=\"data row1 col11\" >-0.01</td>\n",
       "                        <td id=\"T_945e95ea_f775_11ed_9253_0c84dcded466row1_col12\" class=\"data row1 col12\" >-0.02</td>\n",
       "                        <td id=\"T_945e95ea_f775_11ed_9253_0c84dcded466row1_col13\" class=\"data row1 col13\" >-0.02</td>\n",
       "                        <td id=\"T_945e95ea_f775_11ed_9253_0c84dcded466row1_col14\" class=\"data row1 col14\" >-0.02</td>\n",
       "                        <td id=\"T_945e95ea_f775_11ed_9253_0c84dcded466row1_col15\" class=\"data row1 col15\" >0.03</td>\n",
       "                        <td id=\"T_945e95ea_f775_11ed_9253_0c84dcded466row1_col16\" class=\"data row1 col16\" >0.01</td>\n",
       "            </tr>\n",
       "            <tr>\n",
       "                        <th id=\"T_945e95ea_f775_11ed_9253_0c84dcded466level0_row2\" class=\"row_heading level0 row2\" >number vmail messages</th>\n",
       "                        <td id=\"T_945e95ea_f775_11ed_9253_0c84dcded466row2_col0\" class=\"data row2 col0\" >-0.00</td>\n",
       "                        <td id=\"T_945e95ea_f775_11ed_9253_0c84dcded466row2_col1\" class=\"data row2 col1\" >-0.00</td>\n",
       "                        <td id=\"T_945e95ea_f775_11ed_9253_0c84dcded466row2_col2\" class=\"data row2 col2\" >1.00</td>\n",
       "                        <td id=\"T_945e95ea_f775_11ed_9253_0c84dcded466row2_col3\" class=\"data row2 col3\" >0.00</td>\n",
       "                        <td id=\"T_945e95ea_f775_11ed_9253_0c84dcded466row2_col4\" class=\"data row2 col4\" >-0.01</td>\n",
       "                        <td id=\"T_945e95ea_f775_11ed_9253_0c84dcded466row2_col5\" class=\"data row2 col5\" >0.00</td>\n",
       "                        <td id=\"T_945e95ea_f775_11ed_9253_0c84dcded466row2_col6\" class=\"data row2 col6\" >0.02</td>\n",
       "                        <td id=\"T_945e95ea_f775_11ed_9253_0c84dcded466row2_col7\" class=\"data row2 col7\" >-0.01</td>\n",
       "                        <td id=\"T_945e95ea_f775_11ed_9253_0c84dcded466row2_col8\" class=\"data row2 col8\" >0.02</td>\n",
       "                        <td id=\"T_945e95ea_f775_11ed_9253_0c84dcded466row2_col9\" class=\"data row2 col9\" >0.01</td>\n",
       "                        <td id=\"T_945e95ea_f775_11ed_9253_0c84dcded466row2_col10\" class=\"data row2 col10\" >0.01</td>\n",
       "                        <td id=\"T_945e95ea_f775_11ed_9253_0c84dcded466row2_col11\" class=\"data row2 col11\" >0.01</td>\n",
       "                        <td id=\"T_945e95ea_f775_11ed_9253_0c84dcded466row2_col12\" class=\"data row2 col12\" >0.00</td>\n",
       "                        <td id=\"T_945e95ea_f775_11ed_9253_0c84dcded466row2_col13\" class=\"data row2 col13\" >0.01</td>\n",
       "                        <td id=\"T_945e95ea_f775_11ed_9253_0c84dcded466row2_col14\" class=\"data row2 col14\" >0.00</td>\n",
       "                        <td id=\"T_945e95ea_f775_11ed_9253_0c84dcded466row2_col15\" class=\"data row2 col15\" >-0.01</td>\n",
       "                        <td id=\"T_945e95ea_f775_11ed_9253_0c84dcded466row2_col16\" class=\"data row2 col16\" >-0.09</td>\n",
       "            </tr>\n",
       "            <tr>\n",
       "                        <th id=\"T_945e95ea_f775_11ed_9253_0c84dcded466level0_row3\" class=\"row_heading level0 row3\" >total day minutes</th>\n",
       "                        <td id=\"T_945e95ea_f775_11ed_9253_0c84dcded466row3_col0\" class=\"data row3 col0\" >0.01</td>\n",
       "                        <td id=\"T_945e95ea_f775_11ed_9253_0c84dcded466row3_col1\" class=\"data row3 col1\" >-0.01</td>\n",
       "                        <td id=\"T_945e95ea_f775_11ed_9253_0c84dcded466row3_col2\" class=\"data row3 col2\" >0.00</td>\n",
       "                        <td id=\"T_945e95ea_f775_11ed_9253_0c84dcded466row3_col3\" class=\"data row3 col3\" >1.00</td>\n",
       "                        <td id=\"T_945e95ea_f775_11ed_9253_0c84dcded466row3_col4\" class=\"data row3 col4\" >0.01</td>\n",
       "                        <td id=\"T_945e95ea_f775_11ed_9253_0c84dcded466row3_col5\" class=\"data row3 col5\" >1.00</td>\n",
       "                        <td id=\"T_945e95ea_f775_11ed_9253_0c84dcded466row3_col6\" class=\"data row3 col6\" >0.01</td>\n",
       "                        <td id=\"T_945e95ea_f775_11ed_9253_0c84dcded466row3_col7\" class=\"data row3 col7\" >0.02</td>\n",
       "                        <td id=\"T_945e95ea_f775_11ed_9253_0c84dcded466row3_col8\" class=\"data row3 col8\" >0.01</td>\n",
       "                        <td id=\"T_945e95ea_f775_11ed_9253_0c84dcded466row3_col9\" class=\"data row3 col9\" >0.00</td>\n",
       "                        <td id=\"T_945e95ea_f775_11ed_9253_0c84dcded466row3_col10\" class=\"data row3 col10\" >0.02</td>\n",
       "                        <td id=\"T_945e95ea_f775_11ed_9253_0c84dcded466row3_col11\" class=\"data row3 col11\" >0.00</td>\n",
       "                        <td id=\"T_945e95ea_f775_11ed_9253_0c84dcded466row3_col12\" class=\"data row3 col12\" >-0.01</td>\n",
       "                        <td id=\"T_945e95ea_f775_11ed_9253_0c84dcded466row3_col13\" class=\"data row3 col13\" >0.01</td>\n",
       "                        <td id=\"T_945e95ea_f775_11ed_9253_0c84dcded466row3_col14\" class=\"data row3 col14\" >-0.01</td>\n",
       "                        <td id=\"T_945e95ea_f775_11ed_9253_0c84dcded466row3_col15\" class=\"data row3 col15\" >-0.01</td>\n",
       "                        <td id=\"T_945e95ea_f775_11ed_9253_0c84dcded466row3_col16\" class=\"data row3 col16\" >0.21</td>\n",
       "            </tr>\n",
       "            <tr>\n",
       "                        <th id=\"T_945e95ea_f775_11ed_9253_0c84dcded466level0_row4\" class=\"row_heading level0 row4\" >total day calls</th>\n",
       "                        <td id=\"T_945e95ea_f775_11ed_9253_0c84dcded466row4_col0\" class=\"data row4 col0\" >0.04</td>\n",
       "                        <td id=\"T_945e95ea_f775_11ed_9253_0c84dcded466row4_col1\" class=\"data row4 col1\" >-0.01</td>\n",
       "                        <td id=\"T_945e95ea_f775_11ed_9253_0c84dcded466row4_col2\" class=\"data row4 col2\" >-0.01</td>\n",
       "                        <td id=\"T_945e95ea_f775_11ed_9253_0c84dcded466row4_col3\" class=\"data row4 col3\" >0.01</td>\n",
       "                        <td id=\"T_945e95ea_f775_11ed_9253_0c84dcded466row4_col4\" class=\"data row4 col4\" >1.00</td>\n",
       "                        <td id=\"T_945e95ea_f775_11ed_9253_0c84dcded466row4_col5\" class=\"data row4 col5\" >0.01</td>\n",
       "                        <td id=\"T_945e95ea_f775_11ed_9253_0c84dcded466row4_col6\" class=\"data row4 col6\" >-0.02</td>\n",
       "                        <td id=\"T_945e95ea_f775_11ed_9253_0c84dcded466row4_col7\" class=\"data row4 col7\" >0.01</td>\n",
       "                        <td id=\"T_945e95ea_f775_11ed_9253_0c84dcded466row4_col8\" class=\"data row4 col8\" >-0.02</td>\n",
       "                        <td id=\"T_945e95ea_f775_11ed_9253_0c84dcded466row4_col9\" class=\"data row4 col9\" >0.02</td>\n",
       "                        <td id=\"T_945e95ea_f775_11ed_9253_0c84dcded466row4_col10\" class=\"data row4 col10\" >-0.02</td>\n",
       "                        <td id=\"T_945e95ea_f775_11ed_9253_0c84dcded466row4_col11\" class=\"data row4 col11\" >0.02</td>\n",
       "                        <td id=\"T_945e95ea_f775_11ed_9253_0c84dcded466row4_col12\" class=\"data row4 col12\" >0.02</td>\n",
       "                        <td id=\"T_945e95ea_f775_11ed_9253_0c84dcded466row4_col13\" class=\"data row4 col13\" >0.00</td>\n",
       "                        <td id=\"T_945e95ea_f775_11ed_9253_0c84dcded466row4_col14\" class=\"data row4 col14\" >0.02</td>\n",
       "                        <td id=\"T_945e95ea_f775_11ed_9253_0c84dcded466row4_col15\" class=\"data row4 col15\" >-0.02</td>\n",
       "                        <td id=\"T_945e95ea_f775_11ed_9253_0c84dcded466row4_col16\" class=\"data row4 col16\" >0.02</td>\n",
       "            </tr>\n",
       "            <tr>\n",
       "                        <th id=\"T_945e95ea_f775_11ed_9253_0c84dcded466level0_row5\" class=\"row_heading level0 row5\" >total day charge</th>\n",
       "                        <td id=\"T_945e95ea_f775_11ed_9253_0c84dcded466row5_col0\" class=\"data row5 col0\" >0.01</td>\n",
       "                        <td id=\"T_945e95ea_f775_11ed_9253_0c84dcded466row5_col1\" class=\"data row5 col1\" >-0.01</td>\n",
       "                        <td id=\"T_945e95ea_f775_11ed_9253_0c84dcded466row5_col2\" class=\"data row5 col2\" >0.00</td>\n",
       "                        <td id=\"T_945e95ea_f775_11ed_9253_0c84dcded466row5_col3\" class=\"data row5 col3\" >1.00</td>\n",
       "                        <td id=\"T_945e95ea_f775_11ed_9253_0c84dcded466row5_col4\" class=\"data row5 col4\" >0.01</td>\n",
       "                        <td id=\"T_945e95ea_f775_11ed_9253_0c84dcded466row5_col5\" class=\"data row5 col5\" >1.00</td>\n",
       "                        <td id=\"T_945e95ea_f775_11ed_9253_0c84dcded466row5_col6\" class=\"data row5 col6\" >0.01</td>\n",
       "                        <td id=\"T_945e95ea_f775_11ed_9253_0c84dcded466row5_col7\" class=\"data row5 col7\" >0.02</td>\n",
       "                        <td id=\"T_945e95ea_f775_11ed_9253_0c84dcded466row5_col8\" class=\"data row5 col8\" >0.01</td>\n",
       "                        <td id=\"T_945e95ea_f775_11ed_9253_0c84dcded466row5_col9\" class=\"data row5 col9\" >0.00</td>\n",
       "                        <td id=\"T_945e95ea_f775_11ed_9253_0c84dcded466row5_col10\" class=\"data row5 col10\" >0.02</td>\n",
       "                        <td id=\"T_945e95ea_f775_11ed_9253_0c84dcded466row5_col11\" class=\"data row5 col11\" >0.00</td>\n",
       "                        <td id=\"T_945e95ea_f775_11ed_9253_0c84dcded466row5_col12\" class=\"data row5 col12\" >-0.01</td>\n",
       "                        <td id=\"T_945e95ea_f775_11ed_9253_0c84dcded466row5_col13\" class=\"data row5 col13\" >0.01</td>\n",
       "                        <td id=\"T_945e95ea_f775_11ed_9253_0c84dcded466row5_col14\" class=\"data row5 col14\" >-0.01</td>\n",
       "                        <td id=\"T_945e95ea_f775_11ed_9253_0c84dcded466row5_col15\" class=\"data row5 col15\" >-0.01</td>\n",
       "                        <td id=\"T_945e95ea_f775_11ed_9253_0c84dcded466row5_col16\" class=\"data row5 col16\" >0.21</td>\n",
       "            </tr>\n",
       "            <tr>\n",
       "                        <th id=\"T_945e95ea_f775_11ed_9253_0c84dcded466level0_row6\" class=\"row_heading level0 row6\" >total eve minutes</th>\n",
       "                        <td id=\"T_945e95ea_f775_11ed_9253_0c84dcded466row6_col0\" class=\"data row6 col0\" >-0.01</td>\n",
       "                        <td id=\"T_945e95ea_f775_11ed_9253_0c84dcded466row6_col1\" class=\"data row6 col1\" >0.00</td>\n",
       "                        <td id=\"T_945e95ea_f775_11ed_9253_0c84dcded466row6_col2\" class=\"data row6 col2\" >0.02</td>\n",
       "                        <td id=\"T_945e95ea_f775_11ed_9253_0c84dcded466row6_col3\" class=\"data row6 col3\" >0.01</td>\n",
       "                        <td id=\"T_945e95ea_f775_11ed_9253_0c84dcded466row6_col4\" class=\"data row6 col4\" >-0.02</td>\n",
       "                        <td id=\"T_945e95ea_f775_11ed_9253_0c84dcded466row6_col5\" class=\"data row6 col5\" >0.01</td>\n",
       "                        <td id=\"T_945e95ea_f775_11ed_9253_0c84dcded466row6_col6\" class=\"data row6 col6\" >1.00</td>\n",
       "                        <td id=\"T_945e95ea_f775_11ed_9253_0c84dcded466row6_col7\" class=\"data row6 col7\" >-0.01</td>\n",
       "                        <td id=\"T_945e95ea_f775_11ed_9253_0c84dcded466row6_col8\" class=\"data row6 col8\" >1.00</td>\n",
       "                        <td id=\"T_945e95ea_f775_11ed_9253_0c84dcded466row6_col9\" class=\"data row6 col9\" >-0.01</td>\n",
       "                        <td id=\"T_945e95ea_f775_11ed_9253_0c84dcded466row6_col10\" class=\"data row6 col10\" >0.01</td>\n",
       "                        <td id=\"T_945e95ea_f775_11ed_9253_0c84dcded466row6_col11\" class=\"data row6 col11\" >-0.01</td>\n",
       "                        <td id=\"T_945e95ea_f775_11ed_9253_0c84dcded466row6_col12\" class=\"data row6 col12\" >-0.01</td>\n",
       "                        <td id=\"T_945e95ea_f775_11ed_9253_0c84dcded466row6_col13\" class=\"data row6 col13\" >0.00</td>\n",
       "                        <td id=\"T_945e95ea_f775_11ed_9253_0c84dcded466row6_col14\" class=\"data row6 col14\" >-0.01</td>\n",
       "                        <td id=\"T_945e95ea_f775_11ed_9253_0c84dcded466row6_col15\" class=\"data row6 col15\" >-0.01</td>\n",
       "                        <td id=\"T_945e95ea_f775_11ed_9253_0c84dcded466row6_col16\" class=\"data row6 col16\" >0.09</td>\n",
       "            </tr>\n",
       "            <tr>\n",
       "                        <th id=\"T_945e95ea_f775_11ed_9253_0c84dcded466level0_row7\" class=\"row_heading level0 row7\" >total eve calls</th>\n",
       "                        <td id=\"T_945e95ea_f775_11ed_9253_0c84dcded466row7_col0\" class=\"data row7 col0\" >0.02</td>\n",
       "                        <td id=\"T_945e95ea_f775_11ed_9253_0c84dcded466row7_col1\" class=\"data row7 col1\" >-0.01</td>\n",
       "                        <td id=\"T_945e95ea_f775_11ed_9253_0c84dcded466row7_col2\" class=\"data row7 col2\" >-0.01</td>\n",
       "                        <td id=\"T_945e95ea_f775_11ed_9253_0c84dcded466row7_col3\" class=\"data row7 col3\" >0.02</td>\n",
       "                        <td id=\"T_945e95ea_f775_11ed_9253_0c84dcded466row7_col4\" class=\"data row7 col4\" >0.01</td>\n",
       "                        <td id=\"T_945e95ea_f775_11ed_9253_0c84dcded466row7_col5\" class=\"data row7 col5\" >0.02</td>\n",
       "                        <td id=\"T_945e95ea_f775_11ed_9253_0c84dcded466row7_col6\" class=\"data row7 col6\" >-0.01</td>\n",
       "                        <td id=\"T_945e95ea_f775_11ed_9253_0c84dcded466row7_col7\" class=\"data row7 col7\" >1.00</td>\n",
       "                        <td id=\"T_945e95ea_f775_11ed_9253_0c84dcded466row7_col8\" class=\"data row7 col8\" >-0.01</td>\n",
       "                        <td id=\"T_945e95ea_f775_11ed_9253_0c84dcded466row7_col9\" class=\"data row7 col9\" >-0.00</td>\n",
       "                        <td id=\"T_945e95ea_f775_11ed_9253_0c84dcded466row7_col10\" class=\"data row7 col10\" >0.01</td>\n",
       "                        <td id=\"T_945e95ea_f775_11ed_9253_0c84dcded466row7_col11\" class=\"data row7 col11\" >-0.00</td>\n",
       "                        <td id=\"T_945e95ea_f775_11ed_9253_0c84dcded466row7_col12\" class=\"data row7 col12\" >0.01</td>\n",
       "                        <td id=\"T_945e95ea_f775_11ed_9253_0c84dcded466row7_col13\" class=\"data row7 col13\" >0.02</td>\n",
       "                        <td id=\"T_945e95ea_f775_11ed_9253_0c84dcded466row7_col14\" class=\"data row7 col14\" >0.01</td>\n",
       "                        <td id=\"T_945e95ea_f775_11ed_9253_0c84dcded466row7_col15\" class=\"data row7 col15\" >0.00</td>\n",
       "                        <td id=\"T_945e95ea_f775_11ed_9253_0c84dcded466row7_col16\" class=\"data row7 col16\" >0.01</td>\n",
       "            </tr>\n",
       "            <tr>\n",
       "                        <th id=\"T_945e95ea_f775_11ed_9253_0c84dcded466level0_row8\" class=\"row_heading level0 row8\" >total eve charge</th>\n",
       "                        <td id=\"T_945e95ea_f775_11ed_9253_0c84dcded466row8_col0\" class=\"data row8 col0\" >-0.01</td>\n",
       "                        <td id=\"T_945e95ea_f775_11ed_9253_0c84dcded466row8_col1\" class=\"data row8 col1\" >0.00</td>\n",
       "                        <td id=\"T_945e95ea_f775_11ed_9253_0c84dcded466row8_col2\" class=\"data row8 col2\" >0.02</td>\n",
       "                        <td id=\"T_945e95ea_f775_11ed_9253_0c84dcded466row8_col3\" class=\"data row8 col3\" >0.01</td>\n",
       "                        <td id=\"T_945e95ea_f775_11ed_9253_0c84dcded466row8_col4\" class=\"data row8 col4\" >-0.02</td>\n",
       "                        <td id=\"T_945e95ea_f775_11ed_9253_0c84dcded466row8_col5\" class=\"data row8 col5\" >0.01</td>\n",
       "                        <td id=\"T_945e95ea_f775_11ed_9253_0c84dcded466row8_col6\" class=\"data row8 col6\" >1.00</td>\n",
       "                        <td id=\"T_945e95ea_f775_11ed_9253_0c84dcded466row8_col7\" class=\"data row8 col7\" >-0.01</td>\n",
       "                        <td id=\"T_945e95ea_f775_11ed_9253_0c84dcded466row8_col8\" class=\"data row8 col8\" >1.00</td>\n",
       "                        <td id=\"T_945e95ea_f775_11ed_9253_0c84dcded466row8_col9\" class=\"data row8 col9\" >-0.01</td>\n",
       "                        <td id=\"T_945e95ea_f775_11ed_9253_0c84dcded466row8_col10\" class=\"data row8 col10\" >0.01</td>\n",
       "                        <td id=\"T_945e95ea_f775_11ed_9253_0c84dcded466row8_col11\" class=\"data row8 col11\" >-0.01</td>\n",
       "                        <td id=\"T_945e95ea_f775_11ed_9253_0c84dcded466row8_col12\" class=\"data row8 col12\" >-0.01</td>\n",
       "                        <td id=\"T_945e95ea_f775_11ed_9253_0c84dcded466row8_col13\" class=\"data row8 col13\" >0.00</td>\n",
       "                        <td id=\"T_945e95ea_f775_11ed_9253_0c84dcded466row8_col14\" class=\"data row8 col14\" >-0.01</td>\n",
       "                        <td id=\"T_945e95ea_f775_11ed_9253_0c84dcded466row8_col15\" class=\"data row8 col15\" >-0.01</td>\n",
       "                        <td id=\"T_945e95ea_f775_11ed_9253_0c84dcded466row8_col16\" class=\"data row8 col16\" >0.09</td>\n",
       "            </tr>\n",
       "            <tr>\n",
       "                        <th id=\"T_945e95ea_f775_11ed_9253_0c84dcded466level0_row9\" class=\"row_heading level0 row9\" >total night minutes</th>\n",
       "                        <td id=\"T_945e95ea_f775_11ed_9253_0c84dcded466row9_col0\" class=\"data row9 col0\" >-0.01</td>\n",
       "                        <td id=\"T_945e95ea_f775_11ed_9253_0c84dcded466row9_col1\" class=\"data row9 col1\" >-0.01</td>\n",
       "                        <td id=\"T_945e95ea_f775_11ed_9253_0c84dcded466row9_col2\" class=\"data row9 col2\" >0.01</td>\n",
       "                        <td id=\"T_945e95ea_f775_11ed_9253_0c84dcded466row9_col3\" class=\"data row9 col3\" >0.00</td>\n",
       "                        <td id=\"T_945e95ea_f775_11ed_9253_0c84dcded466row9_col4\" class=\"data row9 col4\" >0.02</td>\n",
       "                        <td id=\"T_945e95ea_f775_11ed_9253_0c84dcded466row9_col5\" class=\"data row9 col5\" >0.00</td>\n",
       "                        <td id=\"T_945e95ea_f775_11ed_9253_0c84dcded466row9_col6\" class=\"data row9 col6\" >-0.01</td>\n",
       "                        <td id=\"T_945e95ea_f775_11ed_9253_0c84dcded466row9_col7\" class=\"data row9 col7\" >-0.00</td>\n",
       "                        <td id=\"T_945e95ea_f775_11ed_9253_0c84dcded466row9_col8\" class=\"data row9 col8\" >-0.01</td>\n",
       "                        <td id=\"T_945e95ea_f775_11ed_9253_0c84dcded466row9_col9\" class=\"data row9 col9\" >1.00</td>\n",
       "                        <td id=\"T_945e95ea_f775_11ed_9253_0c84dcded466row9_col10\" class=\"data row9 col10\" >0.01</td>\n",
       "                        <td id=\"T_945e95ea_f775_11ed_9253_0c84dcded466row9_col11\" class=\"data row9 col11\" >1.00</td>\n",
       "                        <td id=\"T_945e95ea_f775_11ed_9253_0c84dcded466row9_col12\" class=\"data row9 col12\" >-0.02</td>\n",
       "                        <td id=\"T_945e95ea_f775_11ed_9253_0c84dcded466row9_col13\" class=\"data row9 col13\" >-0.01</td>\n",
       "                        <td id=\"T_945e95ea_f775_11ed_9253_0c84dcded466row9_col14\" class=\"data row9 col14\" >-0.02</td>\n",
       "                        <td id=\"T_945e95ea_f775_11ed_9253_0c84dcded466row9_col15\" class=\"data row9 col15\" >-0.01</td>\n",
       "                        <td id=\"T_945e95ea_f775_11ed_9253_0c84dcded466row9_col16\" class=\"data row9 col16\" >0.04</td>\n",
       "            </tr>\n",
       "            <tr>\n",
       "                        <th id=\"T_945e95ea_f775_11ed_9253_0c84dcded466level0_row10\" class=\"row_heading level0 row10\" >total night calls</th>\n",
       "                        <td id=\"T_945e95ea_f775_11ed_9253_0c84dcded466row10_col0\" class=\"data row10 col0\" >-0.01</td>\n",
       "                        <td id=\"T_945e95ea_f775_11ed_9253_0c84dcded466row10_col1\" class=\"data row10 col1\" >0.02</td>\n",
       "                        <td id=\"T_945e95ea_f775_11ed_9253_0c84dcded466row10_col2\" class=\"data row10 col2\" >0.01</td>\n",
       "                        <td id=\"T_945e95ea_f775_11ed_9253_0c84dcded466row10_col3\" class=\"data row10 col3\" >0.02</td>\n",
       "                        <td id=\"T_945e95ea_f775_11ed_9253_0c84dcded466row10_col4\" class=\"data row10 col4\" >-0.02</td>\n",
       "                        <td id=\"T_945e95ea_f775_11ed_9253_0c84dcded466row10_col5\" class=\"data row10 col5\" >0.02</td>\n",
       "                        <td id=\"T_945e95ea_f775_11ed_9253_0c84dcded466row10_col6\" class=\"data row10 col6\" >0.01</td>\n",
       "                        <td id=\"T_945e95ea_f775_11ed_9253_0c84dcded466row10_col7\" class=\"data row10 col7\" >0.01</td>\n",
       "                        <td id=\"T_945e95ea_f775_11ed_9253_0c84dcded466row10_col8\" class=\"data row10 col8\" >0.01</td>\n",
       "                        <td id=\"T_945e95ea_f775_11ed_9253_0c84dcded466row10_col9\" class=\"data row10 col9\" >0.01</td>\n",
       "                        <td id=\"T_945e95ea_f775_11ed_9253_0c84dcded466row10_col10\" class=\"data row10 col10\" >1.00</td>\n",
       "                        <td id=\"T_945e95ea_f775_11ed_9253_0c84dcded466row10_col11\" class=\"data row10 col11\" >0.01</td>\n",
       "                        <td id=\"T_945e95ea_f775_11ed_9253_0c84dcded466row10_col12\" class=\"data row10 col12\" >-0.01</td>\n",
       "                        <td id=\"T_945e95ea_f775_11ed_9253_0c84dcded466row10_col13\" class=\"data row10 col13\" >0.00</td>\n",
       "                        <td id=\"T_945e95ea_f775_11ed_9253_0c84dcded466row10_col14\" class=\"data row10 col14\" >-0.01</td>\n",
       "                        <td id=\"T_945e95ea_f775_11ed_9253_0c84dcded466row10_col15\" class=\"data row10 col15\" >-0.01</td>\n",
       "                        <td id=\"T_945e95ea_f775_11ed_9253_0c84dcded466row10_col16\" class=\"data row10 col16\" >0.01</td>\n",
       "            </tr>\n",
       "            <tr>\n",
       "                        <th id=\"T_945e95ea_f775_11ed_9253_0c84dcded466level0_row11\" class=\"row_heading level0 row11\" >total night charge</th>\n",
       "                        <td id=\"T_945e95ea_f775_11ed_9253_0c84dcded466row11_col0\" class=\"data row11 col0\" >-0.01</td>\n",
       "                        <td id=\"T_945e95ea_f775_11ed_9253_0c84dcded466row11_col1\" class=\"data row11 col1\" >-0.01</td>\n",
       "                        <td id=\"T_945e95ea_f775_11ed_9253_0c84dcded466row11_col2\" class=\"data row11 col2\" >0.01</td>\n",
       "                        <td id=\"T_945e95ea_f775_11ed_9253_0c84dcded466row11_col3\" class=\"data row11 col3\" >0.00</td>\n",
       "                        <td id=\"T_945e95ea_f775_11ed_9253_0c84dcded466row11_col4\" class=\"data row11 col4\" >0.02</td>\n",
       "                        <td id=\"T_945e95ea_f775_11ed_9253_0c84dcded466row11_col5\" class=\"data row11 col5\" >0.00</td>\n",
       "                        <td id=\"T_945e95ea_f775_11ed_9253_0c84dcded466row11_col6\" class=\"data row11 col6\" >-0.01</td>\n",
       "                        <td id=\"T_945e95ea_f775_11ed_9253_0c84dcded466row11_col7\" class=\"data row11 col7\" >-0.00</td>\n",
       "                        <td id=\"T_945e95ea_f775_11ed_9253_0c84dcded466row11_col8\" class=\"data row11 col8\" >-0.01</td>\n",
       "                        <td id=\"T_945e95ea_f775_11ed_9253_0c84dcded466row11_col9\" class=\"data row11 col9\" >1.00</td>\n",
       "                        <td id=\"T_945e95ea_f775_11ed_9253_0c84dcded466row11_col10\" class=\"data row11 col10\" >0.01</td>\n",
       "                        <td id=\"T_945e95ea_f775_11ed_9253_0c84dcded466row11_col11\" class=\"data row11 col11\" >1.00</td>\n",
       "                        <td id=\"T_945e95ea_f775_11ed_9253_0c84dcded466row11_col12\" class=\"data row11 col12\" >-0.02</td>\n",
       "                        <td id=\"T_945e95ea_f775_11ed_9253_0c84dcded466row11_col13\" class=\"data row11 col13\" >-0.01</td>\n",
       "                        <td id=\"T_945e95ea_f775_11ed_9253_0c84dcded466row11_col14\" class=\"data row11 col14\" >-0.02</td>\n",
       "                        <td id=\"T_945e95ea_f775_11ed_9253_0c84dcded466row11_col15\" class=\"data row11 col15\" >-0.01</td>\n",
       "                        <td id=\"T_945e95ea_f775_11ed_9253_0c84dcded466row11_col16\" class=\"data row11 col16\" >0.04</td>\n",
       "            </tr>\n",
       "            <tr>\n",
       "                        <th id=\"T_945e95ea_f775_11ed_9253_0c84dcded466level0_row12\" class=\"row_heading level0 row12\" >total intl minutes</th>\n",
       "                        <td id=\"T_945e95ea_f775_11ed_9253_0c84dcded466row12_col0\" class=\"data row12 col0\" >0.01</td>\n",
       "                        <td id=\"T_945e95ea_f775_11ed_9253_0c84dcded466row12_col1\" class=\"data row12 col1\" >-0.02</td>\n",
       "                        <td id=\"T_945e95ea_f775_11ed_9253_0c84dcded466row12_col2\" class=\"data row12 col2\" >0.00</td>\n",
       "                        <td id=\"T_945e95ea_f775_11ed_9253_0c84dcded466row12_col3\" class=\"data row12 col3\" >-0.01</td>\n",
       "                        <td id=\"T_945e95ea_f775_11ed_9253_0c84dcded466row12_col4\" class=\"data row12 col4\" >0.02</td>\n",
       "                        <td id=\"T_945e95ea_f775_11ed_9253_0c84dcded466row12_col5\" class=\"data row12 col5\" >-0.01</td>\n",
       "                        <td id=\"T_945e95ea_f775_11ed_9253_0c84dcded466row12_col6\" class=\"data row12 col6\" >-0.01</td>\n",
       "                        <td id=\"T_945e95ea_f775_11ed_9253_0c84dcded466row12_col7\" class=\"data row12 col7\" >0.01</td>\n",
       "                        <td id=\"T_945e95ea_f775_11ed_9253_0c84dcded466row12_col8\" class=\"data row12 col8\" >-0.01</td>\n",
       "                        <td id=\"T_945e95ea_f775_11ed_9253_0c84dcded466row12_col9\" class=\"data row12 col9\" >-0.02</td>\n",
       "                        <td id=\"T_945e95ea_f775_11ed_9253_0c84dcded466row12_col10\" class=\"data row12 col10\" >-0.01</td>\n",
       "                        <td id=\"T_945e95ea_f775_11ed_9253_0c84dcded466row12_col11\" class=\"data row12 col11\" >-0.02</td>\n",
       "                        <td id=\"T_945e95ea_f775_11ed_9253_0c84dcded466row12_col12\" class=\"data row12 col12\" >1.00</td>\n",
       "                        <td id=\"T_945e95ea_f775_11ed_9253_0c84dcded466row12_col13\" class=\"data row12 col13\" >0.03</td>\n",
       "                        <td id=\"T_945e95ea_f775_11ed_9253_0c84dcded466row12_col14\" class=\"data row12 col14\" >1.00</td>\n",
       "                        <td id=\"T_945e95ea_f775_11ed_9253_0c84dcded466row12_col15\" class=\"data row12 col15\" >-0.01</td>\n",
       "                        <td id=\"T_945e95ea_f775_11ed_9253_0c84dcded466row12_col16\" class=\"data row12 col16\" >0.07</td>\n",
       "            </tr>\n",
       "            <tr>\n",
       "                        <th id=\"T_945e95ea_f775_11ed_9253_0c84dcded466level0_row13\" class=\"row_heading level0 row13\" >total intl calls</th>\n",
       "                        <td id=\"T_945e95ea_f775_11ed_9253_0c84dcded466row13_col0\" class=\"data row13 col0\" >0.02</td>\n",
       "                        <td id=\"T_945e95ea_f775_11ed_9253_0c84dcded466row13_col1\" class=\"data row13 col1\" >-0.02</td>\n",
       "                        <td id=\"T_945e95ea_f775_11ed_9253_0c84dcded466row13_col2\" class=\"data row13 col2\" >0.01</td>\n",
       "                        <td id=\"T_945e95ea_f775_11ed_9253_0c84dcded466row13_col3\" class=\"data row13 col3\" >0.01</td>\n",
       "                        <td id=\"T_945e95ea_f775_11ed_9253_0c84dcded466row13_col4\" class=\"data row13 col4\" >0.00</td>\n",
       "                        <td id=\"T_945e95ea_f775_11ed_9253_0c84dcded466row13_col5\" class=\"data row13 col5\" >0.01</td>\n",
       "                        <td id=\"T_945e95ea_f775_11ed_9253_0c84dcded466row13_col6\" class=\"data row13 col6\" >0.00</td>\n",
       "                        <td id=\"T_945e95ea_f775_11ed_9253_0c84dcded466row13_col7\" class=\"data row13 col7\" >0.02</td>\n",
       "                        <td id=\"T_945e95ea_f775_11ed_9253_0c84dcded466row13_col8\" class=\"data row13 col8\" >0.00</td>\n",
       "                        <td id=\"T_945e95ea_f775_11ed_9253_0c84dcded466row13_col9\" class=\"data row13 col9\" >-0.01</td>\n",
       "                        <td id=\"T_945e95ea_f775_11ed_9253_0c84dcded466row13_col10\" class=\"data row13 col10\" >0.00</td>\n",
       "                        <td id=\"T_945e95ea_f775_11ed_9253_0c84dcded466row13_col11\" class=\"data row13 col11\" >-0.01</td>\n",
       "                        <td id=\"T_945e95ea_f775_11ed_9253_0c84dcded466row13_col12\" class=\"data row13 col12\" >0.03</td>\n",
       "                        <td id=\"T_945e95ea_f775_11ed_9253_0c84dcded466row13_col13\" class=\"data row13 col13\" >1.00</td>\n",
       "                        <td id=\"T_945e95ea_f775_11ed_9253_0c84dcded466row13_col14\" class=\"data row13 col14\" >0.03</td>\n",
       "                        <td id=\"T_945e95ea_f775_11ed_9253_0c84dcded466row13_col15\" class=\"data row13 col15\" >-0.02</td>\n",
       "                        <td id=\"T_945e95ea_f775_11ed_9253_0c84dcded466row13_col16\" class=\"data row13 col16\" >-0.05</td>\n",
       "            </tr>\n",
       "            <tr>\n",
       "                        <th id=\"T_945e95ea_f775_11ed_9253_0c84dcded466level0_row14\" class=\"row_heading level0 row14\" >total intl charge</th>\n",
       "                        <td id=\"T_945e95ea_f775_11ed_9253_0c84dcded466row14_col0\" class=\"data row14 col0\" >0.01</td>\n",
       "                        <td id=\"T_945e95ea_f775_11ed_9253_0c84dcded466row14_col1\" class=\"data row14 col1\" >-0.02</td>\n",
       "                        <td id=\"T_945e95ea_f775_11ed_9253_0c84dcded466row14_col2\" class=\"data row14 col2\" >0.00</td>\n",
       "                        <td id=\"T_945e95ea_f775_11ed_9253_0c84dcded466row14_col3\" class=\"data row14 col3\" >-0.01</td>\n",
       "                        <td id=\"T_945e95ea_f775_11ed_9253_0c84dcded466row14_col4\" class=\"data row14 col4\" >0.02</td>\n",
       "                        <td id=\"T_945e95ea_f775_11ed_9253_0c84dcded466row14_col5\" class=\"data row14 col5\" >-0.01</td>\n",
       "                        <td id=\"T_945e95ea_f775_11ed_9253_0c84dcded466row14_col6\" class=\"data row14 col6\" >-0.01</td>\n",
       "                        <td id=\"T_945e95ea_f775_11ed_9253_0c84dcded466row14_col7\" class=\"data row14 col7\" >0.01</td>\n",
       "                        <td id=\"T_945e95ea_f775_11ed_9253_0c84dcded466row14_col8\" class=\"data row14 col8\" >-0.01</td>\n",
       "                        <td id=\"T_945e95ea_f775_11ed_9253_0c84dcded466row14_col9\" class=\"data row14 col9\" >-0.02</td>\n",
       "                        <td id=\"T_945e95ea_f775_11ed_9253_0c84dcded466row14_col10\" class=\"data row14 col10\" >-0.01</td>\n",
       "                        <td id=\"T_945e95ea_f775_11ed_9253_0c84dcded466row14_col11\" class=\"data row14 col11\" >-0.02</td>\n",
       "                        <td id=\"T_945e95ea_f775_11ed_9253_0c84dcded466row14_col12\" class=\"data row14 col12\" >1.00</td>\n",
       "                        <td id=\"T_945e95ea_f775_11ed_9253_0c84dcded466row14_col13\" class=\"data row14 col13\" >0.03</td>\n",
       "                        <td id=\"T_945e95ea_f775_11ed_9253_0c84dcded466row14_col14\" class=\"data row14 col14\" >1.00</td>\n",
       "                        <td id=\"T_945e95ea_f775_11ed_9253_0c84dcded466row14_col15\" class=\"data row14 col15\" >-0.01</td>\n",
       "                        <td id=\"T_945e95ea_f775_11ed_9253_0c84dcded466row14_col16\" class=\"data row14 col16\" >0.07</td>\n",
       "            </tr>\n",
       "            <tr>\n",
       "                        <th id=\"T_945e95ea_f775_11ed_9253_0c84dcded466level0_row15\" class=\"row_heading level0 row15\" >customer service calls</th>\n",
       "                        <td id=\"T_945e95ea_f775_11ed_9253_0c84dcded466row15_col0\" class=\"data row15 col0\" >-0.00</td>\n",
       "                        <td id=\"T_945e95ea_f775_11ed_9253_0c84dcded466row15_col1\" class=\"data row15 col1\" >0.03</td>\n",
       "                        <td id=\"T_945e95ea_f775_11ed_9253_0c84dcded466row15_col2\" class=\"data row15 col2\" >-0.01</td>\n",
       "                        <td id=\"T_945e95ea_f775_11ed_9253_0c84dcded466row15_col3\" class=\"data row15 col3\" >-0.01</td>\n",
       "                        <td id=\"T_945e95ea_f775_11ed_9253_0c84dcded466row15_col4\" class=\"data row15 col4\" >-0.02</td>\n",
       "                        <td id=\"T_945e95ea_f775_11ed_9253_0c84dcded466row15_col5\" class=\"data row15 col5\" >-0.01</td>\n",
       "                        <td id=\"T_945e95ea_f775_11ed_9253_0c84dcded466row15_col6\" class=\"data row15 col6\" >-0.01</td>\n",
       "                        <td id=\"T_945e95ea_f775_11ed_9253_0c84dcded466row15_col7\" class=\"data row15 col7\" >0.00</td>\n",
       "                        <td id=\"T_945e95ea_f775_11ed_9253_0c84dcded466row15_col8\" class=\"data row15 col8\" >-0.01</td>\n",
       "                        <td id=\"T_945e95ea_f775_11ed_9253_0c84dcded466row15_col9\" class=\"data row15 col9\" >-0.01</td>\n",
       "                        <td id=\"T_945e95ea_f775_11ed_9253_0c84dcded466row15_col10\" class=\"data row15 col10\" >-0.01</td>\n",
       "                        <td id=\"T_945e95ea_f775_11ed_9253_0c84dcded466row15_col11\" class=\"data row15 col11\" >-0.01</td>\n",
       "                        <td id=\"T_945e95ea_f775_11ed_9253_0c84dcded466row15_col12\" class=\"data row15 col12\" >-0.01</td>\n",
       "                        <td id=\"T_945e95ea_f775_11ed_9253_0c84dcded466row15_col13\" class=\"data row15 col13\" >-0.02</td>\n",
       "                        <td id=\"T_945e95ea_f775_11ed_9253_0c84dcded466row15_col14\" class=\"data row15 col14\" >-0.01</td>\n",
       "                        <td id=\"T_945e95ea_f775_11ed_9253_0c84dcded466row15_col15\" class=\"data row15 col15\" >1.00</td>\n",
       "                        <td id=\"T_945e95ea_f775_11ed_9253_0c84dcded466row15_col16\" class=\"data row15 col16\" >0.21</td>\n",
       "            </tr>\n",
       "            <tr>\n",
       "                        <th id=\"T_945e95ea_f775_11ed_9253_0c84dcded466level0_row16\" class=\"row_heading level0 row16\" >churn</th>\n",
       "                        <td id=\"T_945e95ea_f775_11ed_9253_0c84dcded466row16_col0\" class=\"data row16 col0\" >0.02</td>\n",
       "                        <td id=\"T_945e95ea_f775_11ed_9253_0c84dcded466row16_col1\" class=\"data row16 col1\" >0.01</td>\n",
       "                        <td id=\"T_945e95ea_f775_11ed_9253_0c84dcded466row16_col2\" class=\"data row16 col2\" >-0.09</td>\n",
       "                        <td id=\"T_945e95ea_f775_11ed_9253_0c84dcded466row16_col3\" class=\"data row16 col3\" >0.21</td>\n",
       "                        <td id=\"T_945e95ea_f775_11ed_9253_0c84dcded466row16_col4\" class=\"data row16 col4\" >0.02</td>\n",
       "                        <td id=\"T_945e95ea_f775_11ed_9253_0c84dcded466row16_col5\" class=\"data row16 col5\" >0.21</td>\n",
       "                        <td id=\"T_945e95ea_f775_11ed_9253_0c84dcded466row16_col6\" class=\"data row16 col6\" >0.09</td>\n",
       "                        <td id=\"T_945e95ea_f775_11ed_9253_0c84dcded466row16_col7\" class=\"data row16 col7\" >0.01</td>\n",
       "                        <td id=\"T_945e95ea_f775_11ed_9253_0c84dcded466row16_col8\" class=\"data row16 col8\" >0.09</td>\n",
       "                        <td id=\"T_945e95ea_f775_11ed_9253_0c84dcded466row16_col9\" class=\"data row16 col9\" >0.04</td>\n",
       "                        <td id=\"T_945e95ea_f775_11ed_9253_0c84dcded466row16_col10\" class=\"data row16 col10\" >0.01</td>\n",
       "                        <td id=\"T_945e95ea_f775_11ed_9253_0c84dcded466row16_col11\" class=\"data row16 col11\" >0.04</td>\n",
       "                        <td id=\"T_945e95ea_f775_11ed_9253_0c84dcded466row16_col12\" class=\"data row16 col12\" >0.07</td>\n",
       "                        <td id=\"T_945e95ea_f775_11ed_9253_0c84dcded466row16_col13\" class=\"data row16 col13\" >-0.05</td>\n",
       "                        <td id=\"T_945e95ea_f775_11ed_9253_0c84dcded466row16_col14\" class=\"data row16 col14\" >0.07</td>\n",
       "                        <td id=\"T_945e95ea_f775_11ed_9253_0c84dcded466row16_col15\" class=\"data row16 col15\" >0.21</td>\n",
       "                        <td id=\"T_945e95ea_f775_11ed_9253_0c84dcded466row16_col16\" class=\"data row16 col16\" >1.00</td>\n",
       "            </tr>\n",
       "    </tbody></table>"
      ],
      "text/plain": [
       "<pandas.io.formats.style.Styler at 0x2a679800e50>"
      ]
     },
     "execution_count": 126,
     "metadata": {},
     "output_type": "execute_result"
    }
   ],
   "source": [
    "#checking correlation heatmap\n",
    "df.corr().style.background_gradient(cmap='coolwarm').set_precision(2)"
   ]
  },
  {
   "attachments": {},
   "cell_type": "markdown",
   "metadata": {},
   "source": [
    "### Feature engineering"
   ]
  },
  {
   "attachments": {},
   "cell_type": "markdown",
   "metadata": {},
   "source": [
    "Dealing with categorical columns"
   ]
  },
  {
   "cell_type": "code",
   "execution_count": 87,
   "metadata": {},
   "outputs": [],
   "source": [
    "# Binary-encoding the voice mail plan and international plan because the values are yes and no\n",
    "df['voice mail plan'] = df['voice mail plan'].replace({'yes': 1, 'no': 0})\n",
    "\n",
    "df['international plan'] = df['international plan'].replace({'yes': 1, 'no': 0})\n"
   ]
  },
  {
   "cell_type": "code",
   "execution_count": 88,
   "metadata": {},
   "outputs": [
    {
     "data": {
      "text/plain": [
       "0    0\n",
       "1    0\n",
       "2    0\n",
       "3    0\n",
       "4    0\n",
       "Name: churn, dtype: int32"
      ]
     },
     "execution_count": 88,
     "metadata": {},
     "output_type": "execute_result"
    }
   ],
   "source": [
    "df['churn'] = df['churn'].replace({True: 1, False: 0})\n",
    "df['churn'].astype(int).head()"
   ]
  },
  {
   "cell_type": "code",
   "execution_count": 89,
   "metadata": {},
   "outputs": [],
   "source": [
    "#dropping state and phone number because they are not relevant in our analysis\n",
    "df = df.drop(['state', 'phone number'], axis=1)\n"
   ]
  },
  {
   "cell_type": "code",
   "execution_count": 90,
   "metadata": {},
   "outputs": [],
   "source": [
    "#one hot encode the column of Area code\n",
    "df = pd.get_dummies(df, columns=['area code'], drop_first=True)\n",
    "\n"
   ]
  },
  {
   "attachments": {},
   "cell_type": "markdown",
   "metadata": {},
   "source": [
    "# Modeling"
   ]
  },
  {
   "attachments": {},
   "cell_type": "markdown",
   "metadata": {},
   "source": [
    "SMOTE"
   ]
  },
  {
   "cell_type": "code",
   "execution_count": 91,
   "metadata": {},
   "outputs": [],
   "source": [
    "#selecting x values and y for moddeling\n",
    "#we will use \"churn\" as our target variables so we drop the column from the dependent variables\n",
    "X = df.drop('churn', axis=1)\n",
    "y = df['churn']\n",
    "\n",
    "# Perform a train_test split\n",
    "# split the data to use 20% of the data as test data and random state 87 \n",
    "X_train, X_test, y_train, y_test = train_test_split(X, y, test_size=0.2, random_state=87)\n",
    "\n"
   ]
  },
  {
   "attachments": {},
   "cell_type": "markdown",
   "metadata": {},
   "source": [
    "using starndard scaler to scale training dataset and transform test data set"
   ]
  },
  {
   "cell_type": "code",
   "execution_count": 92,
   "metadata": {},
   "outputs": [],
   "source": [
    "#importing scaler\n",
    "from sklearn.preprocessing import StandardScaler\n",
    "#instanciating the scaler\n",
    "scaler = StandardScaler()\n",
    "#\n",
    "X_train_scale = scaler.fit_transform(X_train)\n",
    "X_test_scale = scaler.transform(X_test)"
   ]
  },
  {
   "attachments": {},
   "cell_type": "markdown",
   "metadata": {},
   "source": [
    "fitting first classification model to the training data\n",
    "\n",
    "First model is logisticregression"
   ]
  },
  {
   "cell_type": "code",
   "execution_count": 93,
   "metadata": {},
   "outputs": [
    {
     "data": {
      "text/html": [
       "<style>#sk-container-id-2 {color: black;background-color: white;}#sk-container-id-2 pre{padding: 0;}#sk-container-id-2 div.sk-toggleable {background-color: white;}#sk-container-id-2 label.sk-toggleable__label {cursor: pointer;display: block;width: 100%;margin-bottom: 0;padding: 0.3em;box-sizing: border-box;text-align: center;}#sk-container-id-2 label.sk-toggleable__label-arrow:before {content: \"▸\";float: left;margin-right: 0.25em;color: #696969;}#sk-container-id-2 label.sk-toggleable__label-arrow:hover:before {color: black;}#sk-container-id-2 div.sk-estimator:hover label.sk-toggleable__label-arrow:before {color: black;}#sk-container-id-2 div.sk-toggleable__content {max-height: 0;max-width: 0;overflow: hidden;text-align: left;background-color: #f0f8ff;}#sk-container-id-2 div.sk-toggleable__content pre {margin: 0.2em;color: black;border-radius: 0.25em;background-color: #f0f8ff;}#sk-container-id-2 input.sk-toggleable__control:checked~div.sk-toggleable__content {max-height: 200px;max-width: 100%;overflow: auto;}#sk-container-id-2 input.sk-toggleable__control:checked~label.sk-toggleable__label-arrow:before {content: \"▾\";}#sk-container-id-2 div.sk-estimator input.sk-toggleable__control:checked~label.sk-toggleable__label {background-color: #d4ebff;}#sk-container-id-2 div.sk-label input.sk-toggleable__control:checked~label.sk-toggleable__label {background-color: #d4ebff;}#sk-container-id-2 input.sk-hidden--visually {border: 0;clip: rect(1px 1px 1px 1px);clip: rect(1px, 1px, 1px, 1px);height: 1px;margin: -1px;overflow: hidden;padding: 0;position: absolute;width: 1px;}#sk-container-id-2 div.sk-estimator {font-family: monospace;background-color: #f0f8ff;border: 1px dotted black;border-radius: 0.25em;box-sizing: border-box;margin-bottom: 0.5em;}#sk-container-id-2 div.sk-estimator:hover {background-color: #d4ebff;}#sk-container-id-2 div.sk-parallel-item::after {content: \"\";width: 100%;border-bottom: 1px solid gray;flex-grow: 1;}#sk-container-id-2 div.sk-label:hover label.sk-toggleable__label {background-color: #d4ebff;}#sk-container-id-2 div.sk-serial::before {content: \"\";position: absolute;border-left: 1px solid gray;box-sizing: border-box;top: 0;bottom: 0;left: 50%;z-index: 0;}#sk-container-id-2 div.sk-serial {display: flex;flex-direction: column;align-items: center;background-color: white;padding-right: 0.2em;padding-left: 0.2em;position: relative;}#sk-container-id-2 div.sk-item {position: relative;z-index: 1;}#sk-container-id-2 div.sk-parallel {display: flex;align-items: stretch;justify-content: center;background-color: white;position: relative;}#sk-container-id-2 div.sk-item::before, #sk-container-id-2 div.sk-parallel-item::before {content: \"\";position: absolute;border-left: 1px solid gray;box-sizing: border-box;top: 0;bottom: 0;left: 50%;z-index: -1;}#sk-container-id-2 div.sk-parallel-item {display: flex;flex-direction: column;z-index: 1;position: relative;background-color: white;}#sk-container-id-2 div.sk-parallel-item:first-child::after {align-self: flex-end;width: 50%;}#sk-container-id-2 div.sk-parallel-item:last-child::after {align-self: flex-start;width: 50%;}#sk-container-id-2 div.sk-parallel-item:only-child::after {width: 0;}#sk-container-id-2 div.sk-dashed-wrapped {border: 1px dashed gray;margin: 0 0.4em 0.5em 0.4em;box-sizing: border-box;padding-bottom: 0.4em;background-color: white;}#sk-container-id-2 div.sk-label label {font-family: monospace;font-weight: bold;display: inline-block;line-height: 1.2em;}#sk-container-id-2 div.sk-label-container {text-align: center;}#sk-container-id-2 div.sk-container {/* jupyter's `normalize.less` sets `[hidden] { display: none; }` but bootstrap.min.css set `[hidden] { display: none !important; }` so we also need the `!important` here to be able to override the default hidden behavior on the sphinx rendered scikit-learn.org. See: https://github.com/scikit-learn/scikit-learn/issues/21755 */display: inline-block !important;position: relative;}#sk-container-id-2 div.sk-text-repr-fallback {display: none;}</style><div id=\"sk-container-id-2\" class=\"sk-top-container\"><div class=\"sk-text-repr-fallback\"><pre>LogisticRegression(random_state=87)</pre><b>In a Jupyter environment, please rerun this cell to show the HTML representation or trust the notebook. <br />On GitHub, the HTML representation is unable to render, please try loading this page with nbviewer.org.</b></div><div class=\"sk-container\" hidden><div class=\"sk-item\"><div class=\"sk-estimator sk-toggleable\"><input class=\"sk-toggleable__control sk-hidden--visually\" id=\"sk-estimator-id-2\" type=\"checkbox\" checked><label for=\"sk-estimator-id-2\" class=\"sk-toggleable__label sk-toggleable__label-arrow\">LogisticRegression</label><div class=\"sk-toggleable__content\"><pre>LogisticRegression(random_state=87)</pre></div></div></div></div></div>"
      ],
      "text/plain": [
       "LogisticRegression(random_state=87)"
      ]
     },
     "execution_count": 93,
     "metadata": {},
     "output_type": "execute_result"
    }
   ],
   "source": [
    "\n",
    "from sklearn.linear_model import LogisticRegression\n",
    "# instantiate model with random state of 87\n",
    "baseline_model = LogisticRegression(random_state=87)\n",
    "\n",
    "#fit training data into the model\n",
    "baseline_model.fit(X_train_scale, y_train)\n"
   ]
  },
  {
   "attachments": {},
   "cell_type": "markdown",
   "metadata": {},
   "source": [
    "Using the first model to make prediction on training and test data set"
   ]
  },
  {
   "cell_type": "code",
   "execution_count": 94,
   "metadata": {},
   "outputs": [],
   "source": [
    "#making  test predictions\n",
    "y_test_pred = baseline_model.predict(X_test_scale)\n",
    "\n",
    "#making train predictions\n",
    "y_train_pred = baseline_model.predict(X_train_scale)"
   ]
  },
  {
   "attachments": {},
   "cell_type": "markdown",
   "metadata": {},
   "source": []
  },
  {
   "cell_type": "code",
   "execution_count": 135,
   "metadata": {},
   "outputs": [
    {
     "data": {
      "text/plain": [
       "0.8710644677661169"
      ]
     },
     "execution_count": 135,
     "metadata": {},
     "output_type": "execute_result"
    }
   ],
   "source": [
    "#model score\n",
    "baseline_score = baseline_model.score(X_test_scale, y_test)\n",
    "baseline_score"
   ]
  },
  {
   "cell_type": "code",
   "execution_count": 136,
   "metadata": {},
   "outputs": [
    {
     "data": {
      "text/plain": [
       "array([0.84456929, 0.85178236, 0.86491557, 0.85365854, 0.85553471])"
      ]
     },
     "execution_count": 136,
     "metadata": {},
     "output_type": "execute_result"
    }
   ],
   "source": [
    "# cross validation score of model\n",
    "baseline_cv = cross_val_score(baseline_model, X_train_scale, y_train)\n",
    "baseline_cv"
   ]
  },
  {
   "cell_type": "code",
   "execution_count": 139,
   "metadata": {},
   "outputs": [
    {
     "data": {
      "image/png": "[encoded data removed]",
      "text/plain": [
       "<Figure size 432x288 with 2 Axes>"
      ]
     },
     "metadata": {
      "needs_background": "light"
     },
     "output_type": "display_data"
    }
   ],
   "source": [
    "#confusion matrix\n",
    "ConfusionMatrixDisplay.from_estimator(baseline_model, X_train_scale, y_train);"
   ]
  },
  {
   "cell_type": "code",
   "execution_count": 137,
   "metadata": {},
   "outputs": [
    {
     "name": "stdout",
     "output_type": "stream",
     "text": [
      "              precision    recall  f1-score   support\n",
      "\n",
      "           0       0.89      0.97      0.93       581\n",
      "           1       0.50      0.21      0.30        86\n",
      "\n",
      "    accuracy                           0.87       667\n",
      "   macro avg       0.70      0.59      0.61       667\n",
      "weighted avg       0.84      0.87      0.85       667\n",
      "\n"
     ]
    }
   ],
   "source": [
    "#classification report of model\n",
    "base_report = classification_report(y_test, y_test_pred)\n",
    "print(base_report)"
   ]
  },
  {
   "attachments": {},
   "cell_type": "markdown",
   "metadata": {},
   "source": [
    "## Decision Tree"
   ]
  },
  {
   "cell_type": "code",
   "execution_count": 99,
   "metadata": {},
   "outputs": [
    {
     "name": "stdout",
     "output_type": "stream",
     "text": [
      "Trained data score:  1.0\n",
      "Test data score:  0.9085457271364318\n"
     ]
    }
   ],
   "source": [
    "\n",
    "tree_clf = DecisionTreeClassifier(random_state=87)\n",
    "\n",
    "tree_clf.fit(X_train_scale, y_train)\n",
    "y_tree_pred = tree_clf.predict(X_test_scale)\n",
    "\n",
    "# Decision tree model score\n",
    "tree_train_score = tree_clf.score(X_train_scale, y_train)\n",
    "print('Trained data score: ', tree_train_score)\n",
    "\n",
    "# Scoring on test data\n",
    "tree_test_score = tree_clf.score(X_test_scale, y_test)\n",
    "print('Test data score: ', tree_test_score)"
   ]
  },
  {
   "cell_type": "code",
   "execution_count": 100,
   "metadata": {},
   "outputs": [
    {
     "data": {
      "text/plain": [
       "array([0.89325843, 0.90243902, 0.89118199, 0.93058161, 0.89868668])"
      ]
     },
     "execution_count": 100,
     "metadata": {},
     "output_type": "execute_result"
    }
   ],
   "source": [
    "# Cross Validation\n",
    "tree_cv = cross_val_score(tree_clf, X_train_scale, y_train)\n",
    "tree_cv"
   ]
  },
  {
   "cell_type": "code",
   "execution_count": 140,
   "metadata": {},
   "outputs": [
    {
     "data": {
      "image/png": "[encoded data removed]",
      "text/plain": [
       "<Figure size 432x288 with 2 Axes>"
      ]
     },
     "metadata": {
      "needs_background": "light"
     },
     "output_type": "display_data"
    }
   ],
   "source": [
    "# Train Confusion Matrix\n",
    "ConfusionMatrixDisplay.from_estimator(tree_clf, X_train_scale, y_train);"
   ]
  },
  {
   "cell_type": "code",
   "execution_count": 101,
   "metadata": {},
   "outputs": [
    {
     "name": "stdout",
     "output_type": "stream",
     "text": [
      "              precision    recall  f1-score   support\n",
      "\n",
      "           0       0.95      0.94      0.95       581\n",
      "           1       0.63      0.69      0.66        86\n",
      "\n",
      "    accuracy                           0.91       667\n",
      "   macro avg       0.79      0.81      0.80       667\n",
      "weighted avg       0.91      0.91      0.91       667\n",
      "\n"
     ]
    }
   ],
   "source": [
    "# Report\n",
    "tree_report = classification_report(y_test, y_tree_pred)\n",
    "print(tree_report)"
   ]
  },
  {
   "attachments": {},
   "cell_type": "markdown",
   "metadata": {},
   "source": [
    "# EVALUATION"
   ]
  },
  {
   "attachments": {},
   "cell_type": "markdown",
   "metadata": {},
   "source": [
    "YOU have to choose the metrics you choose and go with it"
   ]
  },
  {
   "attachments": {},
   "cell_type": "markdown",
   "metadata": {},
   "source": [
    "# K-NEAREST NEIGHBORS"
   ]
  },
  {
   "cell_type": "code",
   "execution_count": 103,
   "metadata": {},
   "outputs": [],
   "source": [
    "from sklearn.neighbors import KNeighborsClassifier\n",
    "knn_clf = KNeighborsClassifier(n_neighbors=5)\n",
    "\n",
    "knn_clf.fit(X_train_scale, y_train)\n",
    "knn_y_pred = knn_clf.predict(X_test_scale)\n",
    "knn_y_pred_proba = knn_clf.predict_proba(X_test_scale)\n"
   ]
  },
  {
   "cell_type": "code",
   "execution_count": 104,
   "metadata": {},
   "outputs": [
    {
     "data": {
      "text/plain": [
       "0.9167291822955739"
      ]
     },
     "execution_count": 104,
     "metadata": {},
     "output_type": "execute_result"
    }
   ],
   "source": [
    "#getting the model score\n",
    "knn_clf_score = knn_clf.score(X_train_scale, y_train)\n",
    "knn_clf_score"
   ]
  },
  {
   "cell_type": "code",
   "execution_count": 105,
   "metadata": {},
   "outputs": [
    {
     "data": {
      "text/plain": [
       "array([0.8670412 , 0.87429644, 0.87992495, 0.87242026, 0.85553471])"
      ]
     },
     "execution_count": 105,
     "metadata": {},
     "output_type": "execute_result"
    }
   ],
   "source": [
    "# Cross Validation\n",
    "knn_clf_cvscore = cross_val_score(knn_clf, X_train, y_train)\n",
    "knn_clf_cvscore"
   ]
  },
  {
   "cell_type": "code",
   "execution_count": 106,
   "metadata": {},
   "outputs": [
    {
     "name": "stdout",
     "output_type": "stream",
     "text": [
      "              precision    recall  f1-score   support\n",
      "\n",
      "           0       0.91      0.97      0.94       581\n",
      "           1       0.65      0.35      0.45        86\n",
      "\n",
      "    accuracy                           0.89       667\n",
      "   macro avg       0.78      0.66      0.70       667\n",
      "weighted avg       0.88      0.89      0.88       667\n",
      "\n"
     ]
    }
   ],
   "source": [
    "# Report \n",
    "knn_clf_creport = classification_report(y_test, knn_y_pred)\n",
    "print(knn_clf_creport)"
   ]
  },
  {
   "cell_type": "code",
   "execution_count": 107,
   "metadata": {},
   "outputs": [
    {
     "data": {
      "image/png": "[encoded data removed]",
      "text/plain": [
       "<Figure size 432x288 with 2 Axes>"
      ]
     },
     "metadata": {
      "needs_background": "light"
     },
     "output_type": "display_data"
    }
   ],
   "source": [
    "# With estimators\n",
    "ConfusionMatrixDisplay.from_estimator(knn_clf, X_train_scale, y_train);"
   ]
  },
  {
   "attachments": {},
   "cell_type": "markdown",
   "metadata": {},
   "source": [
    "# Random Forest"
   ]
  },
  {
   "cell_type": "code",
   "execution_count": 141,
   "metadata": {},
   "outputs": [],
   "source": [
    "\n",
    "from sklearn.ensemble import RandomForestClassifier\n",
    "X_train, X_test, y_train, y_test = train_test_split(X, y, test_size=0.3, random_state=87)\n",
    "\n",
    "\n",
    "rfc_clf = RandomForestClassifier(n_estimators=5, random_state=87)\n",
    "\n",
    "rfc_clf.fit(X_train_scale, y_train)\n",
    "\n",
    "rfc_clf_pred = rfc_clf.predict(X_test_scale)"
   ]
  },
  {
   "cell_type": "code",
   "execution_count": 142,
   "metadata": {},
   "outputs": [
    {
     "data": {
      "text/plain": [
       "0.991747936984246"
      ]
     },
     "execution_count": 142,
     "metadata": {},
     "output_type": "execute_result"
    }
   ],
   "source": [
    "rfc_clf_score = rfc_clf.score(X_train_scale, y_train)\n",
    "rfc_clf_score"
   ]
  },
  {
   "cell_type": "code",
   "execution_count": 143,
   "metadata": {},
   "outputs": [
    {
     "data": {
      "text/plain": [
       "array([0.93445693, 0.9249531 , 0.93058161, 0.93621013, 0.90243902])"
      ]
     },
     "execution_count": 143,
     "metadata": {},
     "output_type": "execute_result"
    }
   ],
   "source": [
    "# Cross validation\n",
    "rfc_clf_cvscore = cross_val_score(rfc_clf, X_train_scale, y_train)\n",
    "rfc_clf_cvscore"
   ]
  },
  {
   "cell_type": "code",
   "execution_count": 146,
   "metadata": {},
   "outputs": [
    {
     "name": "stdout",
     "output_type": "stream",
     "text": [
      "              precision    recall  f1-score   support\n",
      "\n",
      "           0       0.94      0.99      0.97       581\n",
      "           1       0.88      0.60      0.72        86\n",
      "\n",
      "    accuracy                           0.94       667\n",
      "   macro avg       0.91      0.80      0.84       667\n",
      "weighted avg       0.94      0.94      0.93       667\n",
      "\n"
     ]
    }
   ],
   "source": [
    "# Report\n",
    "rfc_clf_creport = classification_report(y_test, rfc_clf_pred)\n",
    "print(rfc_clf_creport)"
   ]
  },
  {
   "cell_type": "code",
   "execution_count": 147,
   "metadata": {},
   "outputs": [
    {
     "data": {
      "image/png": "[encoded data removed]",
      "text/plain": [
       "<Figure size 432x288 with 2 Axes>"
      ]
     },
     "metadata": {
      "needs_background": "light"
     },
     "output_type": "display_data"
    }
   ],
   "source": [
    "# Confusion Matrix\n",
    "ConfusionMatrixDisplay.from_estimator(rfc_clf, X_train_scale, y_train);"
   ]
  },
  {
   "attachments": {},
   "cell_type": "markdown",
   "metadata": {},
   "source": []
  },
  {
   "cell_type": "code",
   "execution_count": null,
   "metadata": {},
   "outputs": [],
   "source": []
  },
  {
   "attachments": {},
   "cell_type": "markdown",
   "metadata": {},
   "source": [
    "# CONCLUSION"
   ]
  },
  {
   "attachments": {},
   "cell_type": "markdown",
   "metadata": {},
   "source": [
    "EDA first\n",
    "based on the model choose the best\n",
    "we chose this and this model"
   ]
  },
  {
   "attachments": {},
   "cell_type": "markdown",
   "metadata": {},
   "source": [
    "# RECOMMENDATION"
   ]
  }
 ],
 "metadata": {
  "kernelspec": {
   "display_name": "learn-env",
   "language": "python",
   "name": "python3"
  },
  "language_info": {
   "codemirror_mode": {
    "name": "ipython",
    "version": 3
   },
   "file_extension": ".py",
   "mimetype": "text/x-python",
   "name": "python",
   "nbconvert_exporter": "python",
   "pygments_lexer": "ipython3",
   "version": "3.8.5"
  },
  "orig_nbformat": 4
 },
 "nbformat": 4,
 "nbformat_minor": 2
}
